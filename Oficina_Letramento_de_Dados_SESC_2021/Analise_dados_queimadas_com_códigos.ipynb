{
  "nbformat": 4,
  "nbformat_minor": 0,
  "metadata": {
    "colab": {
      "name": "Analise_dados_queimadas_com_códigos.ipynb",
      "provenance": [],
      "collapsed_sections": []
    },
    "kernelspec": {
      "name": "python3",
      "display_name": "Python 3"
    },
    "language_info": {
      "name": "python"
    }
  },
  "cells": [
    {
      "cell_type": "markdown",
      "metadata": {
        "id": "M-hma2DhMyK-"
      },
      "source": [
        "<h1>Análisando as queimadas no Brasil</h1>\n",
        "\n",
        "*   Este notebook faz parte das atividades práticas da Oficina de Ciência de Dados para estudantes da Educação Básica, fornecido pelo grupo InformAção (UFRJ) e Escola SESC.\n",
        "*   Nesta atividade iremos aprender mais sobre como coletar, analisar e gerar gráficos a partir de dados referentes a um tema específico, neste caso dados sobre queimadas\n",
        "*   Todos os dados análisados foram extraídos do portal: [Programa Queimadas](https://queimadas.dgi.inpe.br/queimadas/dados-abertos/#)\n"
      ]
    },
    {
      "cell_type": "markdown",
      "metadata": {
        "id": "TMgS5MM_NlXP"
      },
      "source": [
        "<h2>1.   Preparando o ambiente de análise</h2>\n",
        "A área de Ciência de Dados possui um gama diversa de ferramentas e linguagens de programação para executar as tarefa necessárias para análise de dados. As linguagens mais conhecidas e utiliziadas são: Python, R, Matlab, Scala, C, C++, SAS, Java entre outras.\n",
        "Durante esta demonstração iremos utilizar a linguagem Python, umas das mais utilizadas não somente na área de Ciência de Dados, como também em outras áreas. \n",
        "\n",
        "<h3>1.1.   Baixando e instalando as bibliotecas</h3>\n",
        "Como primeiro passo necessitamos baixar bibliotecas importantes para a realização da análise dos dados de queimadas, estas bibliotecas são:\n",
        "\n",
        "*   **Pandas** é uma biblioteca de software criada para a linguagem Python para manipulação e análise de dados. Em particular, oferece estruturas e operações para manipular tabelas numéricas e séries temporais. É software livre sob a licensa licença BSD.\n",
        "*   **NumPy** é um pacote para a linguagem Python que suporta arrays e matrizes multidimensionais, possuindo uma larga coleção de funções matemáticas para trabalhar com estas estruturas.\n",
        "*   **Matplotlib** é uma biblioteca de software para criação de gráficos e visualizações de dados em geral, feita para a da linguagem de programação Python e sua extensão de matemática NumPy. Originalmente criada pelo biólogo e neurocientista americano John D.\n",
        "*   **GeoPandas** é um projeto open source idealizado para possibilitar e facilitar o trabalho com dados espaciais e georreferenciados utilizando a linguagem Python."
      ]
    },
    {
      "cell_type": "code",
      "metadata": {
        "id": "JWVuQHRtpmo_",
        "colab": {
          "base_uri": "https://localhost:8080/"
        },
        "outputId": "017977cc-d83f-4709-b3f5-e65bc5934352"
      },
      "source": [
        "!pip install pandas numpy matplotlib geopandas"
      ],
      "execution_count": 1,
      "outputs": [
        {
          "output_type": "stream",
          "name": "stdout",
          "text": [
            "Requirement already satisfied: pandas in /usr/local/lib/python3.7/dist-packages (1.1.5)\n",
            "Requirement already satisfied: numpy in /usr/local/lib/python3.7/dist-packages (1.19.5)\n",
            "Requirement already satisfied: matplotlib in /usr/local/lib/python3.7/dist-packages (3.2.2)\n",
            "Collecting geopandas\n",
            "  Downloading geopandas-0.10.2-py2.py3-none-any.whl (1.0 MB)\n",
            "\u001b[K     |████████████████████████████████| 1.0 MB 5.0 MB/s \n",
            "\u001b[?25hRequirement already satisfied: python-dateutil>=2.7.3 in /usr/local/lib/python3.7/dist-packages (from pandas) (2.8.2)\n",
            "Requirement already satisfied: pytz>=2017.2 in /usr/local/lib/python3.7/dist-packages (from pandas) (2018.9)\n",
            "Requirement already satisfied: six>=1.5 in /usr/local/lib/python3.7/dist-packages (from python-dateutil>=2.7.3->pandas) (1.15.0)\n",
            "Requirement already satisfied: kiwisolver>=1.0.1 in /usr/local/lib/python3.7/dist-packages (from matplotlib) (1.3.2)\n",
            "Requirement already satisfied: cycler>=0.10 in /usr/local/lib/python3.7/dist-packages (from matplotlib) (0.11.0)\n",
            "Requirement already satisfied: pyparsing!=2.0.4,!=2.1.2,!=2.1.6,>=2.0.1 in /usr/local/lib/python3.7/dist-packages (from matplotlib) (2.4.7)\n",
            "Requirement already satisfied: shapely>=1.6 in /usr/local/lib/python3.7/dist-packages (from geopandas) (1.8.0)\n",
            "Collecting fiona>=1.8\n",
            "  Downloading Fiona-1.8.20-cp37-cp37m-manylinux1_x86_64.whl (15.4 MB)\n",
            "\u001b[K     |████████████████████████████████| 15.4 MB 38 kB/s \n",
            "\u001b[?25hCollecting pyproj>=2.2.0\n",
            "  Downloading pyproj-3.2.1-cp37-cp37m-manylinux2010_x86_64.whl (6.3 MB)\n",
            "\u001b[K     |████████████████████████████████| 6.3 MB 44.3 MB/s \n",
            "\u001b[?25hCollecting munch\n",
            "  Downloading munch-2.5.0-py2.py3-none-any.whl (10 kB)\n",
            "Collecting cligj>=0.5\n",
            "  Downloading cligj-0.7.2-py3-none-any.whl (7.1 kB)\n",
            "Requirement already satisfied: click>=4.0 in /usr/local/lib/python3.7/dist-packages (from fiona>=1.8->geopandas) (7.1.2)\n",
            "Collecting click-plugins>=1.0\n",
            "  Downloading click_plugins-1.1.1-py2.py3-none-any.whl (7.5 kB)\n",
            "Requirement already satisfied: setuptools in /usr/local/lib/python3.7/dist-packages (from fiona>=1.8->geopandas) (57.4.0)\n",
            "Requirement already satisfied: attrs>=17 in /usr/local/lib/python3.7/dist-packages (from fiona>=1.8->geopandas) (21.2.0)\n",
            "Requirement already satisfied: certifi in /usr/local/lib/python3.7/dist-packages (from fiona>=1.8->geopandas) (2021.10.8)\n",
            "Installing collected packages: munch, cligj, click-plugins, pyproj, fiona, geopandas\n",
            "Successfully installed click-plugins-1.1.1 cligj-0.7.2 fiona-1.8.20 geopandas-0.10.2 munch-2.5.0 pyproj-3.2.1\n"
          ]
        }
      ]
    },
    {
      "cell_type": "markdown",
      "metadata": {
        "id": "Z02MlkRRuLIK"
      },
      "source": [
        "<h3>1.2.   Importando as bibliotecas utilizadas</h3>\n",
        "\n",
        "Para utilizar as bibliotecas baixadas e nativas no python necessitamos a primeiro momento importar elas ao nosso ambiente.\n",
        "Além das bibliotecas que instalamos anteriormente iremos utilizar as bibliotecas:\n",
        "\n",
        "*   **OS** fornece uma maneira simples de usar funcionalidades que são dependentes de sistema operacional.\n",
        "*   **Urllib** é um pacote que coleciona vários módulos para trabalhar com URLs\n",
        "\n"
      ]
    },
    {
      "cell_type": "code",
      "metadata": {
        "id": "lKbv7mROr4n-"
      },
      "source": [
        "import pandas as pd\n",
        "import numpy as np\n",
        "import geopandas\n",
        "import matplotlib.pyplot as plt\n",
        "from shapely import wkt\n",
        "import os\n",
        "import urllib\n",
        "import urllib.request\n",
        "\n"
      ],
      "execution_count": 2,
      "outputs": []
    },
    {
      "cell_type": "markdown",
      "metadata": {
        "id": "Qaw53z0pOzIY"
      },
      "source": [
        "<h2>2.   Baixando e analisando o dataset sobre queimadas</h2>\n",
        "\n",
        "Nosso primeiro dataset a ser analisado diz a respeito sobre o histórico de queimadas no bioma Pantanal. Neste dataset iremos incontrar a quantidade de queimadas em cada mês do ano desde 1998, assim como o total por ano, máximo, média e mínimo de cada mês.\n",
        "\n",
        "Como primeiro passo devemos baixar o dataset no formato .csv para incluir em nosso ambiente. Baixamos o arquivo do portal Programa Queimadas e nomeamos como *historico_bioma_pantanal.csv*."
      ]
    },
    {
      "cell_type": "code",
      "metadata": {
        "id": "1Dhe4phJwT6J",
        "colab": {
          "base_uri": "https://localhost:8080/"
        },
        "outputId": "efba6b12-da33-4dfd-8ab8-bc91bc9fe8a0"
      },
      "source": [
        "csv_url_hist_pantanal = 'https://queimadas.dgi.inpe.br/queimadas/portal-static//bioma/csv_estatisticas/historico_bioma_pantanal.csv'\n",
        "urllib.request.urlretrieve(csv_url_hist_pantanal, 'historico_bioma_pantanal.csv')"
      ],
      "execution_count": 3,
      "outputs": [
        {
          "output_type": "execute_result",
          "data": {
            "text/plain": [
              "('historico_bioma_pantanal.csv', <http.client.HTTPMessage at 0x7f7af2bfed90>)"
            ]
          },
          "metadata": {},
          "execution_count": 3
        }
      ]
    },
    {
      "cell_type": "markdown",
      "metadata": {
        "id": "8Vf6gQyMwQQQ"
      },
      "source": [
        "\n",
        "A partir disso podemos gerar um *dataframe* para que ele possa ser utilizado pela biblioteca **Pandas**."
      ]
    },
    {
      "cell_type": "code",
      "metadata": {
        "id": "T-wPq6ULsB0f",
        "colab": {
          "base_uri": "https://localhost:8080/",
          "height": 886
        },
        "outputId": "a23a6379-75b6-4c8a-b0dd-c1a8ac20de18"
      },
      "source": [
        "df = pd.read_csv('/content/historico_bioma_pantanal.csv', encoding='utf-8')\n",
        "df"
      ],
      "execution_count": 4,
      "outputs": [
        {
          "output_type": "execute_result",
          "data": {
            "text/html": [
              "<div>\n",
              "<style scoped>\n",
              "    .dataframe tbody tr th:only-of-type {\n",
              "        vertical-align: middle;\n",
              "    }\n",
              "\n",
              "    .dataframe tbody tr th {\n",
              "        vertical-align: top;\n",
              "    }\n",
              "\n",
              "    .dataframe thead th {\n",
              "        text-align: right;\n",
              "    }\n",
              "</style>\n",
              "<table border=\"1\" class=\"dataframe\">\n",
              "  <thead>\n",
              "    <tr style=\"text-align: right;\">\n",
              "      <th></th>\n",
              "      <th>Unnamed: 0</th>\n",
              "      <th>Janeiro</th>\n",
              "      <th>Fevereiro</th>\n",
              "      <th>Março</th>\n",
              "      <th>Abril</th>\n",
              "      <th>Maio</th>\n",
              "      <th>Junho</th>\n",
              "      <th>Julho</th>\n",
              "      <th>Agosto</th>\n",
              "      <th>Setembro</th>\n",
              "      <th>Outubro</th>\n",
              "      <th>Novembro</th>\n",
              "      <th>Dezembro</th>\n",
              "      <th>Total</th>\n",
              "    </tr>\n",
              "  </thead>\n",
              "  <tbody>\n",
              "    <tr>\n",
              "      <th>0</th>\n",
              "      <td>1998</td>\n",
              "      <td>-</td>\n",
              "      <td>-</td>\n",
              "      <td>-</td>\n",
              "      <td>-</td>\n",
              "      <td>-</td>\n",
              "      <td>12</td>\n",
              "      <td>206</td>\n",
              "      <td>172</td>\n",
              "      <td>542</td>\n",
              "      <td>507</td>\n",
              "      <td>162</td>\n",
              "      <td>58</td>\n",
              "      <td>1659</td>\n",
              "    </tr>\n",
              "    <tr>\n",
              "      <th>1</th>\n",
              "      <td>1999</td>\n",
              "      <td>161</td>\n",
              "      <td>10</td>\n",
              "      <td>17</td>\n",
              "      <td>29</td>\n",
              "      <td>106</td>\n",
              "      <td>65</td>\n",
              "      <td>845</td>\n",
              "      <td>2988</td>\n",
              "      <td>1922</td>\n",
              "      <td>2049</td>\n",
              "      <td>743</td>\n",
              "      <td>52</td>\n",
              "      <td>8987</td>\n",
              "    </tr>\n",
              "    <tr>\n",
              "      <th>2</th>\n",
              "      <td>2000</td>\n",
              "      <td>93</td>\n",
              "      <td>30</td>\n",
              "      <td>19</td>\n",
              "      <td>1</td>\n",
              "      <td>8</td>\n",
              "      <td>29</td>\n",
              "      <td>25</td>\n",
              "      <td>263</td>\n",
              "      <td>503</td>\n",
              "      <td>950</td>\n",
              "      <td>295</td>\n",
              "      <td>74</td>\n",
              "      <td>2290</td>\n",
              "    </tr>\n",
              "    <tr>\n",
              "      <th>3</th>\n",
              "      <td>2001</td>\n",
              "      <td>66</td>\n",
              "      <td>62</td>\n",
              "      <td>11</td>\n",
              "      <td>36</td>\n",
              "      <td>67</td>\n",
              "      <td>219</td>\n",
              "      <td>444</td>\n",
              "      <td>2540</td>\n",
              "      <td>2264</td>\n",
              "      <td>879</td>\n",
              "      <td>175</td>\n",
              "      <td>19</td>\n",
              "      <td>6782</td>\n",
              "    </tr>\n",
              "    <tr>\n",
              "      <th>4</th>\n",
              "      <td>2002</td>\n",
              "      <td>137</td>\n",
              "      <td>28</td>\n",
              "      <td>10</td>\n",
              "      <td>24</td>\n",
              "      <td>29</td>\n",
              "      <td>320</td>\n",
              "      <td>805</td>\n",
              "      <td>2934</td>\n",
              "      <td>2662</td>\n",
              "      <td>2761</td>\n",
              "      <td>2328</td>\n",
              "      <td>448</td>\n",
              "      <td>12486</td>\n",
              "    </tr>\n",
              "    <tr>\n",
              "      <th>5</th>\n",
              "      <td>2003</td>\n",
              "      <td>180</td>\n",
              "      <td>48</td>\n",
              "      <td>36</td>\n",
              "      <td>40</td>\n",
              "      <td>107</td>\n",
              "      <td>170</td>\n",
              "      <td>260</td>\n",
              "      <td>517</td>\n",
              "      <td>1188</td>\n",
              "      <td>715</td>\n",
              "      <td>378</td>\n",
              "      <td>83</td>\n",
              "      <td>3722</td>\n",
              "    </tr>\n",
              "    <tr>\n",
              "      <th>6</th>\n",
              "      <td>2004</td>\n",
              "      <td>185</td>\n",
              "      <td>126</td>\n",
              "      <td>141</td>\n",
              "      <td>68</td>\n",
              "      <td>15</td>\n",
              "      <td>240</td>\n",
              "      <td>384</td>\n",
              "      <td>1164</td>\n",
              "      <td>3963</td>\n",
              "      <td>1912</td>\n",
              "      <td>335</td>\n",
              "      <td>155</td>\n",
              "      <td>8688</td>\n",
              "    </tr>\n",
              "    <tr>\n",
              "      <th>7</th>\n",
              "      <td>2005</td>\n",
              "      <td>20</td>\n",
              "      <td>107</td>\n",
              "      <td>100</td>\n",
              "      <td>163</td>\n",
              "      <td>331</td>\n",
              "      <td>435</td>\n",
              "      <td>1259</td>\n",
              "      <td>5993</td>\n",
              "      <td>2997</td>\n",
              "      <td>933</td>\n",
              "      <td>125</td>\n",
              "      <td>73</td>\n",
              "      <td>12536</td>\n",
              "    </tr>\n",
              "    <tr>\n",
              "      <th>8</th>\n",
              "      <td>2006</td>\n",
              "      <td>28</td>\n",
              "      <td>51</td>\n",
              "      <td>36</td>\n",
              "      <td>19</td>\n",
              "      <td>104</td>\n",
              "      <td>101</td>\n",
              "      <td>375</td>\n",
              "      <td>892</td>\n",
              "      <td>1024</td>\n",
              "      <td>266</td>\n",
              "      <td>254</td>\n",
              "      <td>23</td>\n",
              "      <td>3173</td>\n",
              "    </tr>\n",
              "    <tr>\n",
              "      <th>9</th>\n",
              "      <td>2007</td>\n",
              "      <td>6</td>\n",
              "      <td>13</td>\n",
              "      <td>30</td>\n",
              "      <td>68</td>\n",
              "      <td>101</td>\n",
              "      <td>239</td>\n",
              "      <td>341</td>\n",
              "      <td>1858</td>\n",
              "      <td>5498</td>\n",
              "      <td>1481</td>\n",
              "      <td>189</td>\n",
              "      <td>45</td>\n",
              "      <td>9869</td>\n",
              "    </tr>\n",
              "    <tr>\n",
              "      <th>10</th>\n",
              "      <td>2008</td>\n",
              "      <td>14</td>\n",
              "      <td>13</td>\n",
              "      <td>20</td>\n",
              "      <td>28</td>\n",
              "      <td>48</td>\n",
              "      <td>44</td>\n",
              "      <td>216</td>\n",
              "      <td>588</td>\n",
              "      <td>1660</td>\n",
              "      <td>1046</td>\n",
              "      <td>274</td>\n",
              "      <td>594</td>\n",
              "      <td>4545</td>\n",
              "    </tr>\n",
              "    <tr>\n",
              "      <th>11</th>\n",
              "      <td>2009</td>\n",
              "      <td>380</td>\n",
              "      <td>117</td>\n",
              "      <td>71</td>\n",
              "      <td>525</td>\n",
              "      <td>815</td>\n",
              "      <td>308</td>\n",
              "      <td>311</td>\n",
              "      <td>695</td>\n",
              "      <td>1127</td>\n",
              "      <td>919</td>\n",
              "      <td>414</td>\n",
              "      <td>55</td>\n",
              "      <td>5737</td>\n",
              "    </tr>\n",
              "    <tr>\n",
              "      <th>12</th>\n",
              "      <td>2010</td>\n",
              "      <td>31</td>\n",
              "      <td>47</td>\n",
              "      <td>88</td>\n",
              "      <td>87</td>\n",
              "      <td>67</td>\n",
              "      <td>247</td>\n",
              "      <td>511</td>\n",
              "      <td>1548</td>\n",
              "      <td>3072</td>\n",
              "      <td>1142</td>\n",
              "      <td>385</td>\n",
              "      <td>795</td>\n",
              "      <td>8020</td>\n",
              "    </tr>\n",
              "    <tr>\n",
              "      <th>13</th>\n",
              "      <td>2011</td>\n",
              "      <td>145</td>\n",
              "      <td>22</td>\n",
              "      <td>2</td>\n",
              "      <td>2</td>\n",
              "      <td>20</td>\n",
              "      <td>42</td>\n",
              "      <td>105</td>\n",
              "      <td>309</td>\n",
              "      <td>807</td>\n",
              "      <td>562</td>\n",
              "      <td>873</td>\n",
              "      <td>643</td>\n",
              "      <td>3532</td>\n",
              "    </tr>\n",
              "    <tr>\n",
              "      <th>14</th>\n",
              "      <td>2012</td>\n",
              "      <td>188</td>\n",
              "      <td>83</td>\n",
              "      <td>97</td>\n",
              "      <td>38</td>\n",
              "      <td>115</td>\n",
              "      <td>109</td>\n",
              "      <td>490</td>\n",
              "      <td>2698</td>\n",
              "      <td>2518</td>\n",
              "      <td>832</td>\n",
              "      <td>157</td>\n",
              "      <td>122</td>\n",
              "      <td>7447</td>\n",
              "    </tr>\n",
              "    <tr>\n",
              "      <th>15</th>\n",
              "      <td>2013</td>\n",
              "      <td>108</td>\n",
              "      <td>55</td>\n",
              "      <td>115</td>\n",
              "      <td>51</td>\n",
              "      <td>47</td>\n",
              "      <td>17</td>\n",
              "      <td>129</td>\n",
              "      <td>440</td>\n",
              "      <td>1201</td>\n",
              "      <td>544</td>\n",
              "      <td>513</td>\n",
              "      <td>176</td>\n",
              "      <td>3396</td>\n",
              "    </tr>\n",
              "    <tr>\n",
              "      <th>16</th>\n",
              "      <td>2014</td>\n",
              "      <td>103</td>\n",
              "      <td>64</td>\n",
              "      <td>23</td>\n",
              "      <td>55</td>\n",
              "      <td>16</td>\n",
              "      <td>27</td>\n",
              "      <td>90</td>\n",
              "      <td>134</td>\n",
              "      <td>375</td>\n",
              "      <td>459</td>\n",
              "      <td>184</td>\n",
              "      <td>37</td>\n",
              "      <td>1567</td>\n",
              "    </tr>\n",
              "    <tr>\n",
              "      <th>17</th>\n",
              "      <td>2015</td>\n",
              "      <td>95</td>\n",
              "      <td>51</td>\n",
              "      <td>28</td>\n",
              "      <td>29</td>\n",
              "      <td>36</td>\n",
              "      <td>218</td>\n",
              "      <td>225</td>\n",
              "      <td>1025</td>\n",
              "      <td>1181</td>\n",
              "      <td>794</td>\n",
              "      <td>282</td>\n",
              "      <td>494</td>\n",
              "      <td>4458</td>\n",
              "    </tr>\n",
              "    <tr>\n",
              "      <th>18</th>\n",
              "      <td>2016</td>\n",
              "      <td>37</td>\n",
              "      <td>29</td>\n",
              "      <td>18</td>\n",
              "      <td>34</td>\n",
              "      <td>59</td>\n",
              "      <td>93</td>\n",
              "      <td>542</td>\n",
              "      <td>966</td>\n",
              "      <td>2000</td>\n",
              "      <td>1066</td>\n",
              "      <td>215</td>\n",
              "      <td>125</td>\n",
              "      <td>5184</td>\n",
              "    </tr>\n",
              "    <tr>\n",
              "      <th>19</th>\n",
              "      <td>2017</td>\n",
              "      <td>261</td>\n",
              "      <td>73</td>\n",
              "      <td>68</td>\n",
              "      <td>38</td>\n",
              "      <td>48</td>\n",
              "      <td>93</td>\n",
              "      <td>610</td>\n",
              "      <td>1092</td>\n",
              "      <td>2588</td>\n",
              "      <td>669</td>\n",
              "      <td>214</td>\n",
              "      <td>19</td>\n",
              "      <td>5773</td>\n",
              "    </tr>\n",
              "    <tr>\n",
              "      <th>20</th>\n",
              "      <td>2018</td>\n",
              "      <td>23</td>\n",
              "      <td>8</td>\n",
              "      <td>14</td>\n",
              "      <td>19</td>\n",
              "      <td>28</td>\n",
              "      <td>46</td>\n",
              "      <td>190</td>\n",
              "      <td>275</td>\n",
              "      <td>785</td>\n",
              "      <td>120</td>\n",
              "      <td>20</td>\n",
              "      <td>163</td>\n",
              "      <td>1691</td>\n",
              "    </tr>\n",
              "    <tr>\n",
              "      <th>21</th>\n",
              "      <td>2019</td>\n",
              "      <td>337</td>\n",
              "      <td>211</td>\n",
              "      <td>93</td>\n",
              "      <td>33</td>\n",
              "      <td>68</td>\n",
              "      <td>239</td>\n",
              "      <td>494</td>\n",
              "      <td>1690</td>\n",
              "      <td>2887</td>\n",
              "      <td>2430</td>\n",
              "      <td>1296</td>\n",
              "      <td>247</td>\n",
              "      <td>10025</td>\n",
              "    </tr>\n",
              "    <tr>\n",
              "      <th>22</th>\n",
              "      <td>2020</td>\n",
              "      <td>265</td>\n",
              "      <td>164</td>\n",
              "      <td>602</td>\n",
              "      <td>784</td>\n",
              "      <td>313</td>\n",
              "      <td>406</td>\n",
              "      <td>1684</td>\n",
              "      <td>5935</td>\n",
              "      <td>8106</td>\n",
              "      <td>2856</td>\n",
              "      <td>778</td>\n",
              "      <td>223</td>\n",
              "      <td>22116</td>\n",
              "    </tr>\n",
              "    <tr>\n",
              "      <th>23</th>\n",
              "      <td>2021</td>\n",
              "      <td>41</td>\n",
              "      <td>35</td>\n",
              "      <td>50</td>\n",
              "      <td>87</td>\n",
              "      <td>60</td>\n",
              "      <td>98</td>\n",
              "      <td>508</td>\n",
              "      <td>1505</td>\n",
              "      <td>2954</td>\n",
              "      <td>2515</td>\n",
              "      <td>188</td>\n",
              "      <td>-</td>\n",
              "      <td>8041</td>\n",
              "    </tr>\n",
              "    <tr>\n",
              "      <th>24</th>\n",
              "      <td>Máximo*</td>\n",
              "      <td>380</td>\n",
              "      <td>211</td>\n",
              "      <td>602</td>\n",
              "      <td>784</td>\n",
              "      <td>815</td>\n",
              "      <td>435</td>\n",
              "      <td>1684</td>\n",
              "      <td>5993</td>\n",
              "      <td>8106</td>\n",
              "      <td>2856</td>\n",
              "      <td>2328</td>\n",
              "      <td>795</td>\n",
              "      <td>22116</td>\n",
              "    </tr>\n",
              "    <tr>\n",
              "      <th>25</th>\n",
              "      <td>Média*</td>\n",
              "      <td>130</td>\n",
              "      <td>64</td>\n",
              "      <td>74</td>\n",
              "      <td>99</td>\n",
              "      <td>116</td>\n",
              "      <td>162</td>\n",
              "      <td>458</td>\n",
              "      <td>1596</td>\n",
              "      <td>2212</td>\n",
              "      <td>1126</td>\n",
              "      <td>460</td>\n",
              "      <td>205</td>\n",
              "      <td>6682</td>\n",
              "    </tr>\n",
              "    <tr>\n",
              "      <th>26</th>\n",
              "      <td>Mínimo*</td>\n",
              "      <td>6</td>\n",
              "      <td>8</td>\n",
              "      <td>2</td>\n",
              "      <td>1</td>\n",
              "      <td>8</td>\n",
              "      <td>12</td>\n",
              "      <td>25</td>\n",
              "      <td>134</td>\n",
              "      <td>375</td>\n",
              "      <td>120</td>\n",
              "      <td>20</td>\n",
              "      <td>19</td>\n",
              "      <td>1567</td>\n",
              "    </tr>\n",
              "  </tbody>\n",
              "</table>\n",
              "</div>"
            ],
            "text/plain": [
              "   Unnamed: 0 Janeiro Fevereiro Março  ... Outubro Novembro  Dezembro  Total\n",
              "0        1998       -         -     -  ...     507      162        58   1659\n",
              "1        1999     161        10    17  ...    2049      743        52   8987\n",
              "2        2000      93        30    19  ...     950      295        74   2290\n",
              "3        2001      66        62    11  ...     879      175        19   6782\n",
              "4        2002     137        28    10  ...    2761     2328       448  12486\n",
              "5        2003     180        48    36  ...     715      378        83   3722\n",
              "6        2004     185       126   141  ...    1912      335       155   8688\n",
              "7        2005      20       107   100  ...     933      125        73  12536\n",
              "8        2006      28        51    36  ...     266      254        23   3173\n",
              "9        2007       6        13    30  ...    1481      189        45   9869\n",
              "10       2008      14        13    20  ...    1046      274       594   4545\n",
              "11       2009     380       117    71  ...     919      414        55   5737\n",
              "12       2010      31        47    88  ...    1142      385       795   8020\n",
              "13       2011     145        22     2  ...     562      873       643   3532\n",
              "14       2012     188        83    97  ...     832      157       122   7447\n",
              "15       2013     108        55   115  ...     544      513       176   3396\n",
              "16       2014     103        64    23  ...     459      184        37   1567\n",
              "17       2015      95        51    28  ...     794      282       494   4458\n",
              "18       2016      37        29    18  ...    1066      215       125   5184\n",
              "19       2017     261        73    68  ...     669      214        19   5773\n",
              "20       2018      23         8    14  ...     120       20       163   1691\n",
              "21       2019     337       211    93  ...    2430     1296       247  10025\n",
              "22       2020     265       164   602  ...    2856      778       223  22116\n",
              "23       2021      41        35    50  ...    2515      188         -   8041\n",
              "24    Máximo*     380       211   602  ...    2856     2328       795  22116\n",
              "25     Média*     130        64    74  ...    1126      460       205   6682\n",
              "26    Mínimo*       6         8     2  ...     120       20        19   1567\n",
              "\n",
              "[27 rows x 14 columns]"
            ]
          },
          "metadata": {},
          "execution_count": 4
        }
      ]
    },
    {
      "cell_type": "markdown",
      "metadata": {
        "id": "9TABhW0Lx-nV"
      },
      "source": [
        "Podemos destacar algumas questões interessantes sobre este dataset. \n",
        "*  Nem todos os dados presentes no dataset estão completos, alguns sendo representados pelo caractere **\"-\"**. \n",
        "*  A coluna de ano é representada pelo nome de **Unnamed: 0**\n",
        "*  As três últimas linhas não representam anos, mas sim **máximo**, **média** e **mínimo** de cada mês.\n",
        "*  A última coluna representa não representa um mês, mas sim o **total** de queimadas a cada ano.\n",
        "\n",
        "É essencial para análise de dados entender como os dados estão representados em um dataset, para assim podermos extrair o máximo de informações possíveis de um dataset.\n",
        "\n",
        "Também devemos estar atentos a possíveis valores que possam prejudicar nosso dataset. Neste dataset temos o caracter **\"-\"** no qual podemos identificar como um dado que não foi coletado, contudo o nosso ambiente não reconhece esta informação. Para contornar este problema devemos substituir este caracter para um valor reconhecido pelo ambiente, neste caso o valor 0."
      ]
    },
    {
      "cell_type": "code",
      "metadata": {
        "id": "xnEjj0wa1P7N",
        "colab": {
          "base_uri": "https://localhost:8080/",
          "height": 886
        },
        "outputId": "b658698a-1f5a-4f59-d784-a76064ccf104"
      },
      "source": [
        "df = df.replace(to_replace= '-', value = 0)\n",
        "df"
      ],
      "execution_count": 5,
      "outputs": [
        {
          "output_type": "execute_result",
          "data": {
            "text/html": [
              "<div>\n",
              "<style scoped>\n",
              "    .dataframe tbody tr th:only-of-type {\n",
              "        vertical-align: middle;\n",
              "    }\n",
              "\n",
              "    .dataframe tbody tr th {\n",
              "        vertical-align: top;\n",
              "    }\n",
              "\n",
              "    .dataframe thead th {\n",
              "        text-align: right;\n",
              "    }\n",
              "</style>\n",
              "<table border=\"1\" class=\"dataframe\">\n",
              "  <thead>\n",
              "    <tr style=\"text-align: right;\">\n",
              "      <th></th>\n",
              "      <th>Unnamed: 0</th>\n",
              "      <th>Janeiro</th>\n",
              "      <th>Fevereiro</th>\n",
              "      <th>Março</th>\n",
              "      <th>Abril</th>\n",
              "      <th>Maio</th>\n",
              "      <th>Junho</th>\n",
              "      <th>Julho</th>\n",
              "      <th>Agosto</th>\n",
              "      <th>Setembro</th>\n",
              "      <th>Outubro</th>\n",
              "      <th>Novembro</th>\n",
              "      <th>Dezembro</th>\n",
              "      <th>Total</th>\n",
              "    </tr>\n",
              "  </thead>\n",
              "  <tbody>\n",
              "    <tr>\n",
              "      <th>0</th>\n",
              "      <td>1998</td>\n",
              "      <td>0</td>\n",
              "      <td>0</td>\n",
              "      <td>0</td>\n",
              "      <td>0</td>\n",
              "      <td>0</td>\n",
              "      <td>12</td>\n",
              "      <td>206</td>\n",
              "      <td>172</td>\n",
              "      <td>542</td>\n",
              "      <td>507</td>\n",
              "      <td>162</td>\n",
              "      <td>58</td>\n",
              "      <td>1659</td>\n",
              "    </tr>\n",
              "    <tr>\n",
              "      <th>1</th>\n",
              "      <td>1999</td>\n",
              "      <td>161</td>\n",
              "      <td>10</td>\n",
              "      <td>17</td>\n",
              "      <td>29</td>\n",
              "      <td>106</td>\n",
              "      <td>65</td>\n",
              "      <td>845</td>\n",
              "      <td>2988</td>\n",
              "      <td>1922</td>\n",
              "      <td>2049</td>\n",
              "      <td>743</td>\n",
              "      <td>52</td>\n",
              "      <td>8987</td>\n",
              "    </tr>\n",
              "    <tr>\n",
              "      <th>2</th>\n",
              "      <td>2000</td>\n",
              "      <td>93</td>\n",
              "      <td>30</td>\n",
              "      <td>19</td>\n",
              "      <td>1</td>\n",
              "      <td>8</td>\n",
              "      <td>29</td>\n",
              "      <td>25</td>\n",
              "      <td>263</td>\n",
              "      <td>503</td>\n",
              "      <td>950</td>\n",
              "      <td>295</td>\n",
              "      <td>74</td>\n",
              "      <td>2290</td>\n",
              "    </tr>\n",
              "    <tr>\n",
              "      <th>3</th>\n",
              "      <td>2001</td>\n",
              "      <td>66</td>\n",
              "      <td>62</td>\n",
              "      <td>11</td>\n",
              "      <td>36</td>\n",
              "      <td>67</td>\n",
              "      <td>219</td>\n",
              "      <td>444</td>\n",
              "      <td>2540</td>\n",
              "      <td>2264</td>\n",
              "      <td>879</td>\n",
              "      <td>175</td>\n",
              "      <td>19</td>\n",
              "      <td>6782</td>\n",
              "    </tr>\n",
              "    <tr>\n",
              "      <th>4</th>\n",
              "      <td>2002</td>\n",
              "      <td>137</td>\n",
              "      <td>28</td>\n",
              "      <td>10</td>\n",
              "      <td>24</td>\n",
              "      <td>29</td>\n",
              "      <td>320</td>\n",
              "      <td>805</td>\n",
              "      <td>2934</td>\n",
              "      <td>2662</td>\n",
              "      <td>2761</td>\n",
              "      <td>2328</td>\n",
              "      <td>448</td>\n",
              "      <td>12486</td>\n",
              "    </tr>\n",
              "    <tr>\n",
              "      <th>5</th>\n",
              "      <td>2003</td>\n",
              "      <td>180</td>\n",
              "      <td>48</td>\n",
              "      <td>36</td>\n",
              "      <td>40</td>\n",
              "      <td>107</td>\n",
              "      <td>170</td>\n",
              "      <td>260</td>\n",
              "      <td>517</td>\n",
              "      <td>1188</td>\n",
              "      <td>715</td>\n",
              "      <td>378</td>\n",
              "      <td>83</td>\n",
              "      <td>3722</td>\n",
              "    </tr>\n",
              "    <tr>\n",
              "      <th>6</th>\n",
              "      <td>2004</td>\n",
              "      <td>185</td>\n",
              "      <td>126</td>\n",
              "      <td>141</td>\n",
              "      <td>68</td>\n",
              "      <td>15</td>\n",
              "      <td>240</td>\n",
              "      <td>384</td>\n",
              "      <td>1164</td>\n",
              "      <td>3963</td>\n",
              "      <td>1912</td>\n",
              "      <td>335</td>\n",
              "      <td>155</td>\n",
              "      <td>8688</td>\n",
              "    </tr>\n",
              "    <tr>\n",
              "      <th>7</th>\n",
              "      <td>2005</td>\n",
              "      <td>20</td>\n",
              "      <td>107</td>\n",
              "      <td>100</td>\n",
              "      <td>163</td>\n",
              "      <td>331</td>\n",
              "      <td>435</td>\n",
              "      <td>1259</td>\n",
              "      <td>5993</td>\n",
              "      <td>2997</td>\n",
              "      <td>933</td>\n",
              "      <td>125</td>\n",
              "      <td>73</td>\n",
              "      <td>12536</td>\n",
              "    </tr>\n",
              "    <tr>\n",
              "      <th>8</th>\n",
              "      <td>2006</td>\n",
              "      <td>28</td>\n",
              "      <td>51</td>\n",
              "      <td>36</td>\n",
              "      <td>19</td>\n",
              "      <td>104</td>\n",
              "      <td>101</td>\n",
              "      <td>375</td>\n",
              "      <td>892</td>\n",
              "      <td>1024</td>\n",
              "      <td>266</td>\n",
              "      <td>254</td>\n",
              "      <td>23</td>\n",
              "      <td>3173</td>\n",
              "    </tr>\n",
              "    <tr>\n",
              "      <th>9</th>\n",
              "      <td>2007</td>\n",
              "      <td>6</td>\n",
              "      <td>13</td>\n",
              "      <td>30</td>\n",
              "      <td>68</td>\n",
              "      <td>101</td>\n",
              "      <td>239</td>\n",
              "      <td>341</td>\n",
              "      <td>1858</td>\n",
              "      <td>5498</td>\n",
              "      <td>1481</td>\n",
              "      <td>189</td>\n",
              "      <td>45</td>\n",
              "      <td>9869</td>\n",
              "    </tr>\n",
              "    <tr>\n",
              "      <th>10</th>\n",
              "      <td>2008</td>\n",
              "      <td>14</td>\n",
              "      <td>13</td>\n",
              "      <td>20</td>\n",
              "      <td>28</td>\n",
              "      <td>48</td>\n",
              "      <td>44</td>\n",
              "      <td>216</td>\n",
              "      <td>588</td>\n",
              "      <td>1660</td>\n",
              "      <td>1046</td>\n",
              "      <td>274</td>\n",
              "      <td>594</td>\n",
              "      <td>4545</td>\n",
              "    </tr>\n",
              "    <tr>\n",
              "      <th>11</th>\n",
              "      <td>2009</td>\n",
              "      <td>380</td>\n",
              "      <td>117</td>\n",
              "      <td>71</td>\n",
              "      <td>525</td>\n",
              "      <td>815</td>\n",
              "      <td>308</td>\n",
              "      <td>311</td>\n",
              "      <td>695</td>\n",
              "      <td>1127</td>\n",
              "      <td>919</td>\n",
              "      <td>414</td>\n",
              "      <td>55</td>\n",
              "      <td>5737</td>\n",
              "    </tr>\n",
              "    <tr>\n",
              "      <th>12</th>\n",
              "      <td>2010</td>\n",
              "      <td>31</td>\n",
              "      <td>47</td>\n",
              "      <td>88</td>\n",
              "      <td>87</td>\n",
              "      <td>67</td>\n",
              "      <td>247</td>\n",
              "      <td>511</td>\n",
              "      <td>1548</td>\n",
              "      <td>3072</td>\n",
              "      <td>1142</td>\n",
              "      <td>385</td>\n",
              "      <td>795</td>\n",
              "      <td>8020</td>\n",
              "    </tr>\n",
              "    <tr>\n",
              "      <th>13</th>\n",
              "      <td>2011</td>\n",
              "      <td>145</td>\n",
              "      <td>22</td>\n",
              "      <td>2</td>\n",
              "      <td>2</td>\n",
              "      <td>20</td>\n",
              "      <td>42</td>\n",
              "      <td>105</td>\n",
              "      <td>309</td>\n",
              "      <td>807</td>\n",
              "      <td>562</td>\n",
              "      <td>873</td>\n",
              "      <td>643</td>\n",
              "      <td>3532</td>\n",
              "    </tr>\n",
              "    <tr>\n",
              "      <th>14</th>\n",
              "      <td>2012</td>\n",
              "      <td>188</td>\n",
              "      <td>83</td>\n",
              "      <td>97</td>\n",
              "      <td>38</td>\n",
              "      <td>115</td>\n",
              "      <td>109</td>\n",
              "      <td>490</td>\n",
              "      <td>2698</td>\n",
              "      <td>2518</td>\n",
              "      <td>832</td>\n",
              "      <td>157</td>\n",
              "      <td>122</td>\n",
              "      <td>7447</td>\n",
              "    </tr>\n",
              "    <tr>\n",
              "      <th>15</th>\n",
              "      <td>2013</td>\n",
              "      <td>108</td>\n",
              "      <td>55</td>\n",
              "      <td>115</td>\n",
              "      <td>51</td>\n",
              "      <td>47</td>\n",
              "      <td>17</td>\n",
              "      <td>129</td>\n",
              "      <td>440</td>\n",
              "      <td>1201</td>\n",
              "      <td>544</td>\n",
              "      <td>513</td>\n",
              "      <td>176</td>\n",
              "      <td>3396</td>\n",
              "    </tr>\n",
              "    <tr>\n",
              "      <th>16</th>\n",
              "      <td>2014</td>\n",
              "      <td>103</td>\n",
              "      <td>64</td>\n",
              "      <td>23</td>\n",
              "      <td>55</td>\n",
              "      <td>16</td>\n",
              "      <td>27</td>\n",
              "      <td>90</td>\n",
              "      <td>134</td>\n",
              "      <td>375</td>\n",
              "      <td>459</td>\n",
              "      <td>184</td>\n",
              "      <td>37</td>\n",
              "      <td>1567</td>\n",
              "    </tr>\n",
              "    <tr>\n",
              "      <th>17</th>\n",
              "      <td>2015</td>\n",
              "      <td>95</td>\n",
              "      <td>51</td>\n",
              "      <td>28</td>\n",
              "      <td>29</td>\n",
              "      <td>36</td>\n",
              "      <td>218</td>\n",
              "      <td>225</td>\n",
              "      <td>1025</td>\n",
              "      <td>1181</td>\n",
              "      <td>794</td>\n",
              "      <td>282</td>\n",
              "      <td>494</td>\n",
              "      <td>4458</td>\n",
              "    </tr>\n",
              "    <tr>\n",
              "      <th>18</th>\n",
              "      <td>2016</td>\n",
              "      <td>37</td>\n",
              "      <td>29</td>\n",
              "      <td>18</td>\n",
              "      <td>34</td>\n",
              "      <td>59</td>\n",
              "      <td>93</td>\n",
              "      <td>542</td>\n",
              "      <td>966</td>\n",
              "      <td>2000</td>\n",
              "      <td>1066</td>\n",
              "      <td>215</td>\n",
              "      <td>125</td>\n",
              "      <td>5184</td>\n",
              "    </tr>\n",
              "    <tr>\n",
              "      <th>19</th>\n",
              "      <td>2017</td>\n",
              "      <td>261</td>\n",
              "      <td>73</td>\n",
              "      <td>68</td>\n",
              "      <td>38</td>\n",
              "      <td>48</td>\n",
              "      <td>93</td>\n",
              "      <td>610</td>\n",
              "      <td>1092</td>\n",
              "      <td>2588</td>\n",
              "      <td>669</td>\n",
              "      <td>214</td>\n",
              "      <td>19</td>\n",
              "      <td>5773</td>\n",
              "    </tr>\n",
              "    <tr>\n",
              "      <th>20</th>\n",
              "      <td>2018</td>\n",
              "      <td>23</td>\n",
              "      <td>8</td>\n",
              "      <td>14</td>\n",
              "      <td>19</td>\n",
              "      <td>28</td>\n",
              "      <td>46</td>\n",
              "      <td>190</td>\n",
              "      <td>275</td>\n",
              "      <td>785</td>\n",
              "      <td>120</td>\n",
              "      <td>20</td>\n",
              "      <td>163</td>\n",
              "      <td>1691</td>\n",
              "    </tr>\n",
              "    <tr>\n",
              "      <th>21</th>\n",
              "      <td>2019</td>\n",
              "      <td>337</td>\n",
              "      <td>211</td>\n",
              "      <td>93</td>\n",
              "      <td>33</td>\n",
              "      <td>68</td>\n",
              "      <td>239</td>\n",
              "      <td>494</td>\n",
              "      <td>1690</td>\n",
              "      <td>2887</td>\n",
              "      <td>2430</td>\n",
              "      <td>1296</td>\n",
              "      <td>247</td>\n",
              "      <td>10025</td>\n",
              "    </tr>\n",
              "    <tr>\n",
              "      <th>22</th>\n",
              "      <td>2020</td>\n",
              "      <td>265</td>\n",
              "      <td>164</td>\n",
              "      <td>602</td>\n",
              "      <td>784</td>\n",
              "      <td>313</td>\n",
              "      <td>406</td>\n",
              "      <td>1684</td>\n",
              "      <td>5935</td>\n",
              "      <td>8106</td>\n",
              "      <td>2856</td>\n",
              "      <td>778</td>\n",
              "      <td>223</td>\n",
              "      <td>22116</td>\n",
              "    </tr>\n",
              "    <tr>\n",
              "      <th>23</th>\n",
              "      <td>2021</td>\n",
              "      <td>41</td>\n",
              "      <td>35</td>\n",
              "      <td>50</td>\n",
              "      <td>87</td>\n",
              "      <td>60</td>\n",
              "      <td>98</td>\n",
              "      <td>508</td>\n",
              "      <td>1505</td>\n",
              "      <td>2954</td>\n",
              "      <td>2515</td>\n",
              "      <td>188</td>\n",
              "      <td>0</td>\n",
              "      <td>8041</td>\n",
              "    </tr>\n",
              "    <tr>\n",
              "      <th>24</th>\n",
              "      <td>Máximo*</td>\n",
              "      <td>380</td>\n",
              "      <td>211</td>\n",
              "      <td>602</td>\n",
              "      <td>784</td>\n",
              "      <td>815</td>\n",
              "      <td>435</td>\n",
              "      <td>1684</td>\n",
              "      <td>5993</td>\n",
              "      <td>8106</td>\n",
              "      <td>2856</td>\n",
              "      <td>2328</td>\n",
              "      <td>795</td>\n",
              "      <td>22116</td>\n",
              "    </tr>\n",
              "    <tr>\n",
              "      <th>25</th>\n",
              "      <td>Média*</td>\n",
              "      <td>130</td>\n",
              "      <td>64</td>\n",
              "      <td>74</td>\n",
              "      <td>99</td>\n",
              "      <td>116</td>\n",
              "      <td>162</td>\n",
              "      <td>458</td>\n",
              "      <td>1596</td>\n",
              "      <td>2212</td>\n",
              "      <td>1126</td>\n",
              "      <td>460</td>\n",
              "      <td>205</td>\n",
              "      <td>6682</td>\n",
              "    </tr>\n",
              "    <tr>\n",
              "      <th>26</th>\n",
              "      <td>Mínimo*</td>\n",
              "      <td>6</td>\n",
              "      <td>8</td>\n",
              "      <td>2</td>\n",
              "      <td>1</td>\n",
              "      <td>8</td>\n",
              "      <td>12</td>\n",
              "      <td>25</td>\n",
              "      <td>134</td>\n",
              "      <td>375</td>\n",
              "      <td>120</td>\n",
              "      <td>20</td>\n",
              "      <td>19</td>\n",
              "      <td>1567</td>\n",
              "    </tr>\n",
              "  </tbody>\n",
              "</table>\n",
              "</div>"
            ],
            "text/plain": [
              "   Unnamed: 0 Janeiro Fevereiro Março  ... Outubro Novembro  Dezembro  Total\n",
              "0        1998       0         0     0  ...     507      162        58   1659\n",
              "1        1999     161        10    17  ...    2049      743        52   8987\n",
              "2        2000      93        30    19  ...     950      295        74   2290\n",
              "3        2001      66        62    11  ...     879      175        19   6782\n",
              "4        2002     137        28    10  ...    2761     2328       448  12486\n",
              "5        2003     180        48    36  ...     715      378        83   3722\n",
              "6        2004     185       126   141  ...    1912      335       155   8688\n",
              "7        2005      20       107   100  ...     933      125        73  12536\n",
              "8        2006      28        51    36  ...     266      254        23   3173\n",
              "9        2007       6        13    30  ...    1481      189        45   9869\n",
              "10       2008      14        13    20  ...    1046      274       594   4545\n",
              "11       2009     380       117    71  ...     919      414        55   5737\n",
              "12       2010      31        47    88  ...    1142      385       795   8020\n",
              "13       2011     145        22     2  ...     562      873       643   3532\n",
              "14       2012     188        83    97  ...     832      157       122   7447\n",
              "15       2013     108        55   115  ...     544      513       176   3396\n",
              "16       2014     103        64    23  ...     459      184        37   1567\n",
              "17       2015      95        51    28  ...     794      282       494   4458\n",
              "18       2016      37        29    18  ...    1066      215       125   5184\n",
              "19       2017     261        73    68  ...     669      214        19   5773\n",
              "20       2018      23         8    14  ...     120       20       163   1691\n",
              "21       2019     337       211    93  ...    2430     1296       247  10025\n",
              "22       2020     265       164   602  ...    2856      778       223  22116\n",
              "23       2021      41        35    50  ...    2515      188         0   8041\n",
              "24    Máximo*     380       211   602  ...    2856     2328       795  22116\n",
              "25     Média*     130        64    74  ...    1126      460       205   6682\n",
              "26    Mínimo*       6         8     2  ...     120       20        19   1567\n",
              "\n",
              "[27 rows x 14 columns]"
            ]
          },
          "metadata": {},
          "execution_count": 5
        }
      ]
    },
    {
      "cell_type": "markdown",
      "metadata": {
        "id": "tTX5jMrATTpy"
      },
      "source": [
        "<h2>3.   Criação do gráfico de série histórica do pantanal</h2>\n",
        "\n",
        "\n",
        "Como melhor analisar esses dados sem ser pelo meio de uma tabela? Depois de ter uma visão do dataset coletado, podemos começar a investigar e gerar alguns gráficos interessantes e extrair informações que não era possível ao analisar o dataset como um todo."
      ]
    },
    {
      "cell_type": "markdown",
      "metadata": {
        "id": "8U33G0SW2cj4"
      },
      "source": [
        "<h3>3.1.   Criação do gráfico de barras</h3>\n",
        "\n",
        "Um gráfico interessante é a quantidade de queimadas por ano, assim devemos criar um gráfico de barras para melhor visualizar esses dados.\n",
        "\n",
        "Sendo assim, devemos ter:\n",
        " *  Eixo x = **Anos**\n",
        " *  Eixo y = **Quantidade de queimadas**\n",
        "\n",
        "Para termos nossos eixos para gerar o gráfico necessitamos criar as variáveis ```anos``` e ```total_queimadas```.\n",
        "\n",
        "Como visto no dataset a coluna de anos está com o nome ```Unnamed: 0``` e os valores do total de queimadas estão contidos entre as linhas 1 e 25. \n",
        "\n",
        "Para criação da variável devemos obdecer a regra: ```df[coluna][linha]```. Neste caso como estamos querendo valores entre as linhas 1 e 25 devemos designar este intervalo, assim resultando em ```df['Unnamed: 0'][0:24]``` (O dataframe começa a contar do 0)."
      ]
    },
    {
      "cell_type": "code",
      "metadata": {
        "id": "bC_p8kUV92Dc",
        "colab": {
          "base_uri": "https://localhost:8080/"
        },
        "outputId": "63e08a07-c13e-4373-82b7-34d0ec374092"
      },
      "source": [
        "ano = df['Unnamed: 0'][0:24].tolist()\n",
        "print(\"Variável com a lista de anos de coleta de queimadas:\")\n",
        "print(ano)\n",
        "total_queimadas = df['Total'][0:24].tolist()\n",
        "print(\"Variável com a lista de total de queimadas por ano:\")\n",
        "print(total_queimadas)"
      ],
      "execution_count": 6,
      "outputs": [
        {
          "output_type": "stream",
          "name": "stdout",
          "text": [
            "Variável com a lista de anos de coleta de queimadas:\n",
            "['1998', '1999', '2000', '2001', '2002', '2003', '2004', '2005', '2006', '2007', '2008', '2009', '2010', '2011', '2012', '2013', '2014', '2015', '2016', '2017', '2018', '2019', '2020', '2021']\n",
            "Variável com a lista de total de queimadas por ano:\n",
            "[1659, 8987, 2290, 6782, 12486, 3722, 8688, 12536, 3173, 9869, 4545, 5737, 8020, 3532, 7447, 3396, 1567, 4458, 5184, 5773, 1691, 10025, 22116, 8041]\n"
          ]
        }
      ]
    },
    {
      "cell_type": "markdown",
      "metadata": {
        "id": "Zkdqocfx5bKL"
      },
      "source": [
        "O gráfico de barras é criado a partir da função ```plt.bar()``` onde identificamos as variáveis e condições opcionais para sua criação, sempre seguindo esta condição: ```plt.bar(x, y, condiçõesOpcionais)```\n",
        "\n",
        "Para melhor visualização dos anos podemos toracionar a etiqueta de anos com a função ```plt.xticks(x, rotation=90)```\n",
        "\n",
        "Por fim para gerar o gráfico devemos utilizar a função ```plt.show()```"
      ]
    },
    {
      "cell_type": "code",
      "metadata": {
        "id": "GgWA5LG54qcf",
        "colab": {
          "base_uri": "https://localhost:8080/",
          "height": 281
        },
        "outputId": "ef9a87de-2033-4717-97b3-4b66a5376064"
      },
      "source": [
        "plt.bar(ano, total_queimadas, color='coral')\n",
        "plt.xticks(ano, rotation=90)\n",
        "plt.show()"
      ],
      "execution_count": 7,
      "outputs": [
        {
          "output_type": "display_data",
          "data": {
            "image/png": "[encoded data removed]",
            "text/plain": [
              "<Figure size 432x288 with 1 Axes>"
            ]
          },
          "metadata": {
            "needs_background": "light"
          }
        }
      ]
    },
    {
      "cell_type": "markdown",
      "metadata": {
        "id": "u7k8HtIiXpxV"
      },
      "source": [
        "<h3>3.2.   Criação do gráfico de linhas</h3>\n",
        "\n",
        "A partir deste gráfico de barra podemos visualizar os dados com mais tranquilidade, e é perceptível a disparidade entre o ano de 2020 e os outros anos. A partir deste resultado podemos analisar mais alguns dados referentes ao ano de 2020.\n",
        "\n",
        "Como foi visto na tabela temos dados referente a máximo, mínimo e média de cada ano, seria interessante construir um gráfico onde podemos visualizar melhor esses dados e comparar com os diversos anos existentes na tabela. Mais precisamente analisando a evolução dos meses do ano. Como primeiro gráfico iremos analisar o máximo de focos por mês\n",
        "\n",
        "Sendo assim, devemos ter:\n",
        " *  Eixo x = **Meses**\n",
        " *  Eixo y = **Máximo de focos por mês**"
      ]
    },
    {
      "cell_type": "code",
      "metadata": {
        "id": "V91rc6omOSx6",
        "colab": {
          "base_uri": "https://localhost:8080/"
        },
        "outputId": "a8eb8667-aa84-46d0-86a1-ab4799ea5336"
      },
      "source": [
        "# Criação de uma variável com a lista dos meses do ano - eixo x\n",
        "meses = df.columns[1:13].tolist() \n",
        "print(\"Variável com a lista de meses do ano:\")\n",
        "print(meses)\n",
        "\n",
        "# Criação da lista com máximo de focos por mês - eixo y\n",
        "max = df.loc[24, 'Janeiro':'Dezembro'].tolist()\n",
        "# Neste caso criamos a variável a partir do df.loc[] para melhor acessar os dados que queremos a partir das condições.\n",
        "# df.loc[linha, coluna_inicial:coluna_final]\n",
        "print(\"Variável com a lista de máximo de queimadas em cada mês:\")\n",
        "print(max)"
      ],
      "execution_count": 8,
      "outputs": [
        {
          "output_type": "stream",
          "name": "stdout",
          "text": [
            "Variável com a lista de meses do ano:\n",
            "['Janeiro', 'Fevereiro', 'Março', 'Abril', 'Maio', 'Junho', 'Julho', 'Agosto', 'Setembro', 'Outubro', 'Novembro', 'Dezembro']\n",
            "Variável com a lista de máximo de queimadas em cada mês:\n",
            "['380', '211', '602', '784', '815', 435, 1684, 5993, 8106, 2856, 2328, '795']\n"
          ]
        }
      ]
    },
    {
      "cell_type": "markdown",
      "metadata": {
        "id": "hqnn6s_49X_0"
      },
      "source": [
        "Ao analisar os dados da variável **max** é perceptível que alguns estão no formato texto (formato texto é representado por aspas simples, ou duplas), contudo para gerar o gráfico somente devemos utilizar variáveis no formato **int**. Para contornar este problema utilizamos a função ```map(int, dataframe)``` que converte todos os valores na variável em inteiros."
      ]
    },
    {
      "cell_type": "code",
      "metadata": {
        "id": "TYip3M9p-Wbq",
        "colab": {
          "base_uri": "https://localhost:8080/"
        },
        "outputId": "3a965a9a-237f-4d65-fa59-ae0d30cb82cc"
      },
      "source": [
        "max = list(map(int, max))\n",
        "print(\"Variável com a lista de máximo de queimadas em cada mês no formato int: \")\n",
        "print(max)"
      ],
      "execution_count": 9,
      "outputs": [
        {
          "output_type": "stream",
          "name": "stdout",
          "text": [
            "Variável com a lista de máximo de queimadas em cada mês no formato int: \n",
            "[380, 211, 602, 784, 815, 435, 1684, 5993, 8106, 2856, 2328, 795]\n"
          ]
        }
      ]
    },
    {
      "cell_type": "markdown",
      "metadata": {
        "id": "dQshxOXw-tm3"
      },
      "source": [
        "Com as variáveis definidas podemos gerar nosso gráfico de linhas.\n",
        "Neste caso utilizamos a função ```plt.plot()```, onde identificamos as variáveis e condições opcionais para sua criação, sempre seguindo esta condição: ```plt.plot(x, y, condiçõesOpcionais)```.\n",
        "Dentre as condições opcionais temos:\n",
        "*  color = identificação da cor da linha.\n",
        "*  marker = inclusão de marcadores para melhor visualização.\n",
        "*  label = identificação da linha criada para gerar uma legenda a partir da função ```plt.label()```.\n",
        "\n"
      ]
    },
    {
      "cell_type": "code",
      "metadata": {
        "id": "duMr_ozv8-E8",
        "colab": {
          "base_uri": "https://localhost:8080/",
          "height": 307
        },
        "outputId": "3f53e445-e005-4d3e-ea60-c58ff5dd08b4"
      },
      "source": [
        "plt.plot(meses, max, color='red', marker='o', label = 'Máximo')\n",
        "plt.xticks(meses, rotation=90)\n",
        "plt.legend()\n",
        "plt.show()"
      ],
      "execution_count": 10,
      "outputs": [
        {
          "output_type": "display_data",
          "data": {
            "image/png": "[encoded data removed]",
            "text/plain": [
              "<Figure size 432x288 with 1 Axes>"
            ]
          },
          "metadata": {
            "needs_background": "light"
          }
        }
      ]
    },
    {
      "cell_type": "markdown",
      "metadata": {
        "id": "ElZqgXiBbDuZ"
      },
      "source": [
        "A partir da geração deste gráfico podemos gerar mais outros dois gráficos a respeito dos valores mínimos e médios contido no dataset analisado. Além disso podemos unificar este três diferentes gráficos somente incluindo o ```plt.show()``` ao final da identificação de cada um dos gráficos gerados."
      ]
    },
    {
      "cell_type": "code",
      "metadata": {
        "id": "JsvjaReNZCLl",
        "colab": {
          "base_uri": "https://localhost:8080/",
          "height": 345
        },
        "outputId": "6ac2ee1a-2118-45ab-c16a-255e99355e28"
      },
      "source": [
        "\n",
        "# Criação da lista com média de focos por mês - eixo y\n",
        "med = df.loc[25, 'Janeiro':'Dezembro'].tolist()\n",
        "med = list(map(int, med))\n",
        "\n",
        "# Criação da lista com mínimo de focos por mês - eixo y\n",
        "min = df.loc[26, 'Janeiro':'Dezembro'].tolist()\n",
        "min = list(map(int, min))\n",
        "\n",
        "plt.plot(meses, max, color='red', marker='o', label = 'Máximo')\n",
        "plt.plot(meses, med, color='darkorange', marker='o', label = 'Média')\n",
        "plt.plot(meses, min, color='green', marker='o', label = 'Mínimo')\n",
        "plt.xticks(meses, rotation=90)\n",
        "plt.subplots_adjust(bottom=0.1, top=0.99) # Ajuste na dimensão do gráfico gerado\n",
        "plt.legend()\n",
        "plt.show()\n"
      ],
      "execution_count": 11,
      "outputs": [
        {
          "output_type": "display_data",
          "data": {
            "image/png": "[encoded data removed]",
            "text/plain": [
              "<Figure size 432x288 with 1 Axes>"
            ]
          },
          "metadata": {
            "needs_background": "light"
          }
        }
      ]
    },
    {
      "cell_type": "markdown",
      "metadata": {
        "id": "C9J_Ld-jbqlS"
      },
      "source": [
        "<h3>3.3.   Unificação de diferentes gráficos</h3>\n",
        "\n",
        "A partir da geração do gráfico de linhas podemos perceber que o segundo semestre de todos os anos coletados são mais propícios a queimadas.\n",
        "\n",
        "Podemos ainda utilizar este gráfico para gerar uma comparação entre o número de queimadas durante os meses do ano. Vamos comparar os três últimos anos do dataset (2019 - 2021). Iremos gerar dois gráficos:\n",
        "*  Comparação 2019-2020\n",
        "*  Comparação 2020-2021\n",
        "\n",
        "Primeiro iremos ver como unificamos vários gráficos em um só. Para isso começaremos criando a variável representando o ano de 2019."
      ]
    },
    {
      "cell_type": "code",
      "metadata": {
        "colab": {
          "base_uri": "https://localhost:8080/"
        },
        "id": "QMuKS-EjXCUN",
        "outputId": "0f193f90-4a3b-4be9-8ae0-1132ed44a3c2"
      },
      "source": [
        "ano_19 = df.loc[21, 'Janeiro':'Dezembro'].tolist()\n",
        "print(\"Variável lista ano_19 com formatos texto e int:\")\n",
        "print(ano_19)\n",
        "ano_19 = map(int, ano_19)\n",
        "print(\"Formato da varíavel ano_19 após o map\")\n",
        "print(type(ano_19))\n",
        "ano_19 = list(ano_19)\n",
        "print(\"Formato da varíavel ano_19 após o list\")\n",
        "print(type(ano_19))\n",
        "#Sendo assim podemos executar somente\n",
        "ano_19 = df.loc[21, 'Janeiro':'Dezembro'].tolist()\n",
        "ano_19 = list(map(int, ano_19))"
      ],
      "execution_count": 12,
      "outputs": [
        {
          "output_type": "stream",
          "name": "stdout",
          "text": [
            "Variável lista ano_19 com formatos texto e int:\n",
            "['337', '211', '93', '33', '68', 239, 494, 1690, 2887, 2430, 1296, '247']\n",
            "Formato da varíavel ano_19 após o map\n",
            "<class 'map'>\n",
            "Formato da varíavel ano_19 após o list\n",
            "<class 'list'>\n"
          ]
        }
      ]
    },
    {
      "cell_type": "markdown",
      "metadata": {
        "id": "cDb7E1u6Xgpp"
      },
      "source": [
        "Criação dos gráficos é feito por camadas sendo as primeiras adicionadas a que ficaram no fundo da imagem."
      ]
    },
    {
      "cell_type": "code",
      "metadata": {
        "colab": {
          "base_uri": "https://localhost:8080/",
          "height": 345
        },
        "id": "ShbFeNdJXQDc",
        "outputId": "4e4f61bc-5003-4abb-d872-69224a4af3a3"
      },
      "source": [
        "plt.bar(meses, ano_19, color='darkslategray', label=2019)\n",
        "plt.plot(meses, max, color='red', marker='o', label = 'Máximo')\n",
        "plt.plot(meses, med, color='darkorange', marker='o', label = 'Média')\n",
        "plt.plot(meses, min, color='green', marker='o', label = 'Mínimo')\n",
        "# Rotação da tag meses\n",
        "plt.xticks(meses, rotation=90)\n",
        "# Ajuste da geração do gráfico\n",
        "plt.subplots_adjust(bottom=0.1, top=0.99)\n",
        "# Geração da legenda\n",
        "plt.legend()\n",
        "plt.show()"
      ],
      "execution_count": 13,
      "outputs": [
        {
          "output_type": "display_data",
          "data": {
            "image/png": "[encoded data removed]",
            "text/plain": [
              "<Figure size 432x288 with 1 Axes>"
            ]
          },
          "metadata": {
            "needs_background": "light"
          }
        }
      ]
    },
    {
      "cell_type": "markdown",
      "metadata": {
        "id": "IdNfN-J8Bija"
      },
      "source": [
        "<h4>3.3.1.   Comparação 2019-2020</h4>\n",
        "\n",
        "Geraremos os gráficos referente aos anos de 2019 e 2020 no formato de barras. Conforme mostrado anteriormente iremos utilizar a função ```df.loc(linha, colunaInicial:colunaFinal)``` para especificar a região do dataset que queremos. \n",
        "\n",
        "O ano de 2019 está contido na linha 21 do dataset e o ano de 2020 na linha 22.\n",
        "\n",
        "Iremos utilizar novamente utilizar a função ```map(int, variável)``` pois os formatos contidos nas variáveis não são os mesmos.\n",
        "\n",
        "Além disso, devemos incluir esta função *map* dentro de uma função ```list()``` pois o resultado gerado da função *map* retorna uma variável do tipo *map* e não do tipo *list* que é utilizada para geração dos gráficos."
      ]
    },
    {
      "cell_type": "code",
      "metadata": {
        "id": "Wv0_nasibZKd"
      },
      "source": [
        "# Criação da lista com focos de 2020 por meses - eixo y\n",
        "ano_20 = df.loc[22, 'Janeiro':'Dezembro'].tolist()\n",
        "ano_20 = list(map(int, ano_20))"
      ],
      "execution_count": 14,
      "outputs": []
    },
    {
      "cell_type": "markdown",
      "metadata": {
        "id": "y8vqCmj-F1YB"
      },
      "source": [
        "<h4>3.3.1.   Comparação 2020-2021</h4>\n",
        "\n",
        "Depois da criação das variáveis devemos gerar os gráficos como camadas, onde as primeiras deverão ser os gráficos de barra dos anos de 2020 e 2019. A ordem de inserção de cada gráfico obdece a ordem sequencial das linhas de execução."
      ]
    },
    {
      "cell_type": "code",
      "metadata": {
        "colab": {
          "base_uri": "https://localhost:8080/",
          "height": 345
        },
        "id": "OA1z_dGXF0nY",
        "outputId": "1b5d06fd-4b48-4124-e28e-7022a7a0cf65"
      },
      "source": [
        "# Camadas da parte de trás\n",
        "plt.bar(meses, ano_20, color='slategray', label=2020)\n",
        "plt.bar(meses, ano_19, color='darkslategray', label=2019)\n",
        "# Camadas da parte da frente\n",
        "plt.plot(meses, max, color='red', marker='o', label = 'Máximo')\n",
        "plt.plot(meses, med, color='darkorange', marker='o', label = 'Média')\n",
        "plt.plot(meses, min, color='green', marker='o', label = 'Mínimo')\n",
        "# Rotação da tag meses\n",
        "plt.xticks(meses, rotation=90)\n",
        "# Ajuste da geração do gráfico\n",
        "plt.subplots_adjust(bottom=0.1, top=0.99)\n",
        "# Geração da legenda\n",
        "plt.legend()\n",
        "plt.show()"
      ],
      "execution_count": 15,
      "outputs": [
        {
          "output_type": "display_data",
          "data": {
            "image/png": "[encoded data removed]",
            "text/plain": [
              "<Figure size 432x288 with 1 Axes>"
            ]
          },
          "metadata": {
            "needs_background": "light"
          }
        }
      ]
    },
    {
      "cell_type": "markdown",
      "metadata": {
        "id": "R99fVGLcHmUi"
      },
      "source": [
        "É perceptível a disparidade do ano 2020 em relação ao ano de 2019. Agora compararemos os anos 2020 e 2021. Seguindo a mesma ordem de inserção usada anteriormente."
      ]
    },
    {
      "cell_type": "code",
      "metadata": {
        "id": "-v0i9qcJFwvf",
        "colab": {
          "base_uri": "https://localhost:8080/",
          "height": 345
        },
        "outputId": "708350be-66c0-4392-95e3-2d965cbf1d7b"
      },
      "source": [
        "# Criação da lista com focos de 2021 por meses - eixo y\n",
        "ano_21 = df.loc[23, 'Janeiro':'Dezembro'].tolist()\n",
        "ano_21 = list(map(int, ano_21))\n",
        "\n",
        "plt.bar(meses, ano_20, color='slategray', label=2020)\n",
        "plt.bar(meses, ano_21, color='darkslategray', label=2021)\n",
        "plt.plot(meses, max, color='red', marker='o', label = 'Máximo')\n",
        "plt.plot(meses, med, color='darkorange', marker='o', label = 'Média')\n",
        "plt.plot(meses, min, color='green', marker='o', label = 'Mínimo')\n",
        "plt.xticks(meses, rotation=90)\n",
        "plt.subplots_adjust(bottom=0.1, top=0.99)\n",
        "plt.legend()\n",
        "plt.show()"
      ],
      "execution_count": 16,
      "outputs": [
        {
          "output_type": "display_data",
          "data": {
            "image/png": "[encoded data removed]",
            "text/plain": [
              "<Figure size 432x288 with 1 Axes>"
            ]
          },
          "metadata": {
            "needs_background": "light"
          }
        }
      ]
    },
    {
      "cell_type": "markdown",
      "metadata": {
        "id": "_V2uNGOOcRC5"
      },
      "source": [
        "<h2>2.   Baixando e analisando o dataset de Setembro de 2021</h2>\n",
        "\n",
        "A partir da geração do gráfico é perceptível que o ano de 2020 foi um dos com mais queimadas, principalmente nos meses de Março, Abril, Junho, Agosto, Setembro, Outubro.\n",
        "\n",
        "Como é perceptível o mês de setembro é um dos que mais há casos de queimadas, podemos analisar um outro dataset referente somente ao mês de setembro.\n",
        "\n",
        "Obs: O arquivo utilizado possui por volta de 250 MB, o que pode demorar um pouco para ser baixado."
      ]
    },
    {
      "cell_type": "code",
      "metadata": {
        "colab": {
          "base_uri": "https://localhost:8080/"
        },
        "id": "D3kHzSKwik7w",
        "outputId": "7919e5be-8a4e-4910-c249-6d9009b4409c"
      },
      "source": [
        "# Baixando o arquivo referente à focos no mês de setembro de 2021 em nosso colab\n",
        "csv_focos = 'https://queimadas.dgi.inpe.br/home/downloadfile?path=%2Fapp%2Fapi%2Fdata%2Fdados_abertos%2Ffocos%2FMensal%2Ffocos_abertos_mensal_202109.csv'\n",
        "urllib.request.urlretrieve(csv_focos, 'focos_abertos_mensal_202109.csv')\n",
        "# Criando um dataframe dos dados contido no arquivo csv\n",
        "df_focos = pd.read_csv('/content/focos_abertos_mensal_202109.csv', encoding='utf-8')\n",
        "# Visualizando os dados dentro do dataframe\n",
        "print(df_focos)"
      ],
      "execution_count": 17,
      "outputs": [
        {
          "output_type": "stream",
          "name": "stdout",
          "text": [
            "              lat        lon                 data satelite\n",
            "0       -25.00000   21.41000  2021-09-01 01:02:55   MSG-03\n",
            "1       -25.00000   21.44000  2021-09-01 01:02:55   MSG-03\n",
            "2        55.57000 -100.69000  2021-09-01 00:20:19  GOES-16\n",
            "3        47.99000 -120.39000  2021-09-01 00:19:49  GOES-16\n",
            "4        45.57000 -115.85000  2021-09-01 00:19:41  GOES-16\n",
            "...           ...        ...                  ...      ...\n",
            "5613413 -10.00372   36.33722  2021-09-30 22:44:00  NOAA-20\n",
            "5613414 -10.00290   28.17615  2021-09-30 22:46:00  NOAA-20\n",
            "5613415 -10.00169   36.47630  2021-09-30 22:44:00  NOAA-20\n",
            "5613416 -10.00002   28.17663  2021-09-30 22:46:00  NOAA-20\n",
            "5613417  -0.50264   39.65019  2021-09-30 22:42:00  NOAA-20\n",
            "\n",
            "[5613418 rows x 4 columns]\n"
          ]
        }
      ]
    },
    {
      "cell_type": "markdown",
      "metadata": {
        "id": "ZNfyfqq2i9Ut"
      },
      "source": [
        "Diferentemente do arquivo anterior, neste podemos ver informações a respeito de focos de calor captados por diferentes satélites em diferentes horários. Neste caso podemos utilizar as colunas de Latitude e Longitude como nossos eixos em um gráfico.\n",
        "\n",
        "Além disso, este dataset utilizado é muito maior que o anterior, mais de 5.600.000 registros. Claro que podemos tentar utiliziar o dataset todo para nossos estudos, contudo toda operação realizada no dataset custará tempo por conta da quantidade de registros e possivelmente podemos ter dados duplicados tendo em vista que diferentes datasets podem coletar o dados sobre um mesmo ponto de calor.\n",
        "\n",
        "\n",
        "\n"
      ]
    },
    {
      "cell_type": "code",
      "metadata": {
        "id": "eFyOd69VHKkq",
        "colab": {
          "base_uri": "https://localhost:8080/"
        },
        "outputId": "da904ba4-5150-42e4-c47a-4a060e8b9b9d"
      },
      "source": [
        "# Quantidade de satélites diferentes neste dataset e quantidade de registros em cada satélite\n",
        "print('Quantidade de registros de cada satélite')\n",
        "print(df_focos['satelite'].value_counts())\n"
      ],
      "execution_count": 18,
      "outputs": [
        {
          "output_type": "stream",
          "name": "stdout",
          "text": [
            "Quantidade de registros de cada satélite\n",
            "NPP-375      2264172\n",
            "NOAA-20      2223505\n",
            "GOES-16       571470\n",
            "AQUA_M-T      177196\n",
            "AQUA_M-M      124803\n",
            "TERRA_M-M     108111\n",
            "TERRA_M-T      56391\n",
            "NOAA-19        41646\n",
            "MSG-03         18770\n",
            "METOP-B        16581\n",
            "NOAA-18         8629\n",
            "METOP-C         2144\n",
            "Name: satelite, dtype: int64\n"
          ]
        }
      ]
    },
    {
      "cell_type": "markdown",
      "metadata": {
        "id": "NXUthc5sKd4D"
      },
      "source": [
        "Para contornar isto devemos escolher o satélite que melhor atende nosso objetivo, analisar focos de queimadas no território brasileiro.\n",
        "\n",
        "Sendo assim criaremos uma cópia do dataset coletado mas somente dos registros do satélite escolhido. Para isso devemos especificar que só desejamos os registros em que a **coluna satelite** contenha o nome escolhido:\n",
        "```\n",
        "df_focos[df_focos.coluna == 'texto']\n",
        "```\n"
      ]
    },
    {
      "cell_type": "code",
      "metadata": {
        "id": "1OS9IbPSKgNc",
        "colab": {
          "base_uri": "https://localhost:8080/"
        },
        "outputId": "0e4b7c94-f48b-4174-bc82-eb259541261c"
      },
      "source": [
        "# Utilizaremos o satelite 'TERRA_M-M' para nossa análise\n",
        "df_satelite = df_focos[df_focos.satelite == 'TERRA_M-M']\n",
        "print(df_satelite)"
      ],
      "execution_count": 19,
      "outputs": [
        {
          "output_type": "stream",
          "name": "stdout",
          "text": [
            "              lat        lon                 data   satelite\n",
            "1636     -6.96174  -38.59750  2021-09-01 00:35:00  TERRA_M-M\n",
            "1637     -6.95650  -38.60487  2021-09-01 00:35:00  TERRA_M-M\n",
            "1638     -6.95342  -38.58174  2021-09-01 00:35:00  TERRA_M-M\n",
            "3044     51.69258  135.73631  2021-09-01 01:11:00  TERRA_M-M\n",
            "3050     -9.18528  125.04928  2021-09-01 01:28:00  TERRA_M-M\n",
            "...           ...        ...                  ...        ...\n",
            "5506851  36.28813    6.51315  2021-09-30 10:38:00  TERRA_M-M\n",
            "5506854  35.86887    7.27663  2021-09-30 10:38:00  TERRA_M-M\n",
            "5506856  34.88594   -6.15737  2021-09-30 10:38:00  TERRA_M-M\n",
            "5506857  34.68200   -3.91674  2021-09-30 10:38:00  TERRA_M-M\n",
            "5509931   5.34095   -4.14046  2021-09-30 10:47:00  TERRA_M-M\n",
            "\n",
            "[108111 rows x 4 columns]\n"
          ]
        }
      ]
    },
    {
      "cell_type": "markdown",
      "metadata": {
        "id": "tkXUEa63LSCj"
      },
      "source": [
        "Com o novo dataset criado podemos gerar um gráfico com os dados de latitude e longitude para identificarmos as regiões com maiores focos de calor coletados pelo satélite escolhido. Neste caso nosso eixos serão:\n",
        "\n",
        "*  Eixo x = **Latitude**\n",
        "*  Eixo y = **Longitude**\n",
        "\n",
        "Utilizaremos neste caso a função ```plt.scatter(x, y, condiçõesOpcionais)``` na qual gera um gráfico com todos os pontos a partir da latitude e longitude coletadas. Suas condições opcionais são:\n",
        "*  label = tipo do ponto gerado ()\n",
        "*  color = cor do ponto.\n",
        "*  s = tamanho do ponto gerado."
      ]
    },
    {
      "cell_type": "code",
      "metadata": {
        "colab": {
          "base_uri": "https://localhost:8080/",
          "height": 483
        },
        "id": "qTx1hmQ5qpUD",
        "outputId": "146acf11-cbc7-47bd-f228-5ca8689784f0"
      },
      "source": [
        "# Plotando as coordenadas de focos no mês de setembro de 2021\n",
        "lat = df_satelite['lat'].tolist()\n",
        "lon = df_satelite['lon'].tolist()\n",
        "plt.rcParams[\"figure.figsize\"] = (8,8) #Alterando a resolução do gráfico para melhor visualização\n",
        "plt.scatter(lon, lat, marker= \"o\", color= \"#1f77b4\", s=1)\n",
        "plt.show()"
      ],
      "execution_count": 20,
      "outputs": [
        {
          "output_type": "display_data",
          "data": {
            "image/png": "[encoded data removed]",
            "text/plain": [
              "<Figure size 576x576 with 1 Axes>"
            ]
          },
          "metadata": {
            "needs_background": "light"
          }
        }
      ]
    },
    {
      "cell_type": "markdown",
      "metadata": {
        "id": "6VmsHa8dXI76"
      },
      "source": [
        "Para melhor visualização das coordenadas iremos utilizar a biblioteca GeoPandas na qual fornece diversos mapas para geração de gráficos."
      ]
    },
    {
      "cell_type": "code",
      "metadata": {
        "colab": {
          "base_uri": "https://localhost:8080/",
          "height": 327
        },
        "id": "yeUJlkWUWzyV",
        "outputId": "974d9fd4-ea4f-48c9-f010-6e28a1aa3001"
      },
      "source": [
        "# Criação de um dataset com a definição das coordenadas de Longitude e Latitude\n",
        "gdf = geopandas.GeoDataFrame(df_satelite, geometry=geopandas.points_from_xy(df_satelite.lon, df_satelite.lat))\n",
        "print(gdf.head())\n",
        "\n",
        "# Geração do mapa que queremos, neste caso o mapa do Brasil\n",
        "world = geopandas.read_file(geopandas.datasets.get_path('naturalearth_lowres'))\n",
        "ax = world[world.name == 'Brazil'].plot(color='white', edgecolor='black')\n",
        "\n",
        "# Plotando as coordenadas que coletamos\n",
        "gdf.plot(ax=ax, color= \"red\", markersize=0.1)\n",
        "plt.show()"
      ],
      "execution_count": 21,
      "outputs": [
        {
          "output_type": "stream",
          "name": "stdout",
          "text": [
            "           lat        lon  ...   satelite                    geometry\n",
            "1636  -6.96174  -38.59750  ...  TERRA_M-M  POINT (-38.59750 -6.96174)\n",
            "1637  -6.95650  -38.60487  ...  TERRA_M-M  POINT (-38.60487 -6.95650)\n",
            "1638  -6.95342  -38.58174  ...  TERRA_M-M  POINT (-38.58174 -6.95342)\n",
            "3044  51.69258  135.73631  ...  TERRA_M-M  POINT (135.73631 51.69258)\n",
            "3050  -9.18528  125.04928  ...  TERRA_M-M  POINT (125.04928 -9.18528)\n",
            "\n",
            "[5 rows x 5 columns]\n"
          ]
        },
        {
          "output_type": "display_data",
          "data": {
            "image/png": "[encoded data removed]",
            "text/plain": [
              "<Figure size 576x576 with 1 Axes>"
            ]
          },
          "metadata": {
            "needs_background": "light"
          }
        }
      ]
    },
    {
      "cell_type": "markdown",
      "metadata": {
        "id": "RlOS8MVwyiCf"
      },
      "source": [
        "<h2>3.   Baixando e analisando o dataset das últimas 48 horas</h2>\n",
        "\n",
        "A partir da utilização do satélites podemos extrair focos de calor de alguma região mais atingida.\n",
        "\n",
        "Uma dessas regiões é do estado de Mato Grosso. Neste caso iremos analisar os dados das últimas 48 horas do estado de Mato Grosso.\n"
      ]
    },
    {
      "cell_type": "code",
      "metadata": {
        "id": "0hcXn4rVA4JD",
        "colab": {
          "base_uri": "https://localhost:8080/",
          "height": 619
        },
        "outputId": "c7a14ba1-d023-4a71-c14f-d0179bf199f3"
      },
      "source": [
        "# Coordenadas focos de calor Mato Grosso\n",
        "# Baixando o arquivo referente à focos no mês de setembro de 2021 em nosso colab\n",
        "csv_mt = 'https://zenodo.org/record/5669098/files/focos48h_estados_MT.csv?download=1'\n",
        "urllib.request.urlretrieve(csv_mt, 'focos48h_estados_MT.csv')\n",
        "df_mt = pd.read_csv('/content/focos48h_estados_MT.csv')\n",
        "head = list(df_mt.columns.values)\n",
        "\n",
        "gdf = geopandas.GeoDataFrame(df_mt, geometry=geopandas.points_from_xy(df_mt.longitude, df_mt.latitude))\n",
        "print(gdf.head())\n",
        "\n",
        "# Geração do mapa que queremos, neste caso o mapa do Brasil\n",
        "world = geopandas.read_file(geopandas.datasets.get_path('naturalearth_lowres'))\n",
        "ax = world[world.name == 'Brazil'].plot(color='white', edgecolor='black')\n",
        "\n",
        "# Plotando as coordenadas que coletamos\n",
        "gdf.plot(ax=ax, color= \"red\")\n",
        "plt.show()"
      ],
      "execution_count": 22,
      "outputs": [
        {
          "output_type": "stream",
          "name": "stdout",
          "text": [
            "                                                 FID  ...                     geometry\n",
            "0  focos_brasil_ontem_hoje_ref.7352e009-ffea-3275...  ...  POINT (-57.49200 -12.97100)\n",
            "1  focos_brasil_ontem_hoje_ref.71796158-a656-3c9b...  ...  POINT (-51.39590 -11.49970)\n",
            "2  focos_brasil_ontem_hoje_ref.17722b9b-5eb0-325a...  ...  POINT (-51.54780 -11.30980)\n",
            "3  focos_brasil_ontem_hoje_ref.f0625f30-1ada-3396...  ...  POINT (-57.68530 -16.91470)\n",
            "4  focos_brasil_ontem_hoje_ref.a97edee2-bbe5-3168...  ...  POINT (-57.13710 -16.22360)\n",
            "\n",
            "[5 rows x 18 columns]\n"
          ]
        },
        {
          "output_type": "display_data",
          "data": {
            "image/png": "[encoded data removed]",
            "text/plain": [
              "<Figure size 576x576 with 1 Axes>"
            ]
          },
          "metadata": {
            "needs_background": "light"
          }
        }
      ]
    },
    {
      "cell_type": "markdown",
      "metadata": {
        "id": "FbJm1bET-0J-"
      },
      "source": [
        "Depois de analisar as coordenadas é possível perceber uma maior concentração de pontos em uma determinada região, podemos analisar melhor esses dados quando agrupamos pelos muncípios."
      ]
    },
    {
      "cell_type": "code",
      "metadata": {
        "id": "teaTIOr8PF1i",
        "colab": {
          "base_uri": "https://localhost:8080/"
        },
        "outputId": "9539859a-afe7-4e8a-976f-357f6d444c55"
      },
      "source": [
        "# Focos X Municipios - Lista\n",
        "df_risco = df_mt.groupby(['municipio']).sum().sort_values(by=['municipio'], ascending=False)\n",
        "df_mun = df_mt.groupby(['municipio']).nunique().sort_values(by=['municipio'], ascending=False)\n",
        "print('Focos de incêndio nas últimas 48 horas em MT')\n",
        "print(df_mun['FID'])\n",
        "\n",
        "print('Risco Fogo nas últimas 48 horas em MT')\n",
        "print(df_risco['risco_fogo'])"
      ],
      "execution_count": 23,
      "outputs": [
        {
          "output_type": "stream",
          "name": "stdout",
          "text": [
            "Focos de incêndio nas últimas 48 horas em MT\n",
            "municipio\n",
            "SÃO FÉLIX DO ARAGUAIA     2\n",
            "POCONÉ                   21\n",
            "PARANATINGA               3\n",
            "JUARA                     1\n",
            "CÁCERES                  22\n",
            "COCALINHO                 1\n",
            "BRASNORTE                 1\n",
            "BARRA DO BUGRES           1\n",
            "Name: FID, dtype: int64\n",
            "Risco Fogo nas últimas 48 horas em MT\n",
            "municipio\n",
            "SÃO FÉLIX DO ARAGUAIA    0.0\n",
            "POCONÉ                   6.8\n",
            "PARANATINGA              0.0\n",
            "JUARA                    0.0\n",
            "CÁCERES                  3.5\n",
            "COCALINHO                0.0\n",
            "BRASNORTE                0.0\n",
            "BARRA DO BUGRES          0.2\n",
            "Name: risco_fogo, dtype: float64\n"
          ]
        }
      ]
    },
    {
      "cell_type": "markdown",
      "metadata": {
        "id": "T0gxVZhNARDt"
      },
      "source": [
        "Uma outra forma de análise é geração de gráfico de pizza com as incidências de focos de calor no estado do Mato Grosso."
      ]
    },
    {
      "cell_type": "code",
      "metadata": {
        "id": "DrT1iAS_zpEu",
        "colab": {
          "base_uri": "https://localhost:8080/",
          "height": 477
        },
        "outputId": "cdaba1ed-8ebd-4346-a6ba-28957fa5cfd2"
      },
      "source": [
        "# Focos X Municipios  = Gráfico\n",
        "municipios = df_mun.index.tolist()\n",
        "focos_mun = df_mun['FID'].tolist()\n",
        "plt.style.use('ggplot')\n",
        "plt.pie(focos_mun, labels = municipios, autopct='%1.1f%%', wedgeprops = { 'linewidth' : 1, 'edgecolor' : 'white' })\n",
        "plt.subplots_adjust(bottom=0.1, top=0.99)\n",
        "plt.show()\n"
      ],
      "execution_count": 24,
      "outputs": [
        {
          "output_type": "display_data",
          "data": {
            "image/png": "[encoded data removed]",
            "text/plain": [
              "<Figure size 576x576 with 1 Axes>"
            ]
          },
          "metadata": {}
        }
      ]
    },
    {
      "cell_type": "markdown",
      "metadata": {
        "id": "ziJHfy5kvdBN"
      },
      "source": [
        "O atributo \"RiscoFogo\" dos focos é o valor do Risco de Fogo previsto para o mesmo dia da ocorrência do foco. A partir disso, podemos analisar a relação entre o risco fogo e a quantidade de focos de calor nas últimas 48 horas.\n",
        "\n",
        "Vale destacar que neste caso iremos utilizar o somátorio do risco fogo de todas os registros por município, assim tendo uma visão geral do muncípio como um todo e não somente um foco de calor."
      ]
    },
    {
      "cell_type": "code",
      "metadata": {
        "colab": {
          "base_uri": "https://localhost:8080/",
          "height": 445
        },
        "id": "IPBXN5JkztlT",
        "outputId": "6878584c-6703-4f7d-9410-94b281f9cbc4"
      },
      "source": [
        "# Incidências de focos por município (vermelho) com risco fogo por município (azul)\n",
        "risco_fogo = df_risco['risco_fogo'].tolist()\n",
        "\n",
        "plt.bar(municipios, focos_mun, color='red')\n",
        "plt.bar(municipios, risco_fogo, color='blue')\n",
        "plt.xticks(municipios, rotation=90)\n",
        "plt.subplots_adjust(bottom=0.5, top=0.99)\n",
        "plt.show()"
      ],
      "execution_count": 25,
      "outputs": [
        {
          "output_type": "display_data",
          "data": {
            "image/png": "[encoded data removed]",
            "text/plain": [
              "<Figure size 576x576 with 1 Axes>"
            ]
          },
          "metadata": {}
        }
      ]
    }
  ]
}