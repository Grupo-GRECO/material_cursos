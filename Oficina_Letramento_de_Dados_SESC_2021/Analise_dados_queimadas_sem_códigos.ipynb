{
  "nbformat": 4,
  "nbformat_minor": 0,
  "metadata": {
    "colab": {
      "name": "Analise_dados_queimadas_sem_códigos.ipynb",
      "provenance": [],
      "collapsed_sections": []
    },
    "kernelspec": {
      "name": "python3",
      "display_name": "Python 3"
    },
    "language_info": {
      "name": "python"
    }
  },
  "cells": [
    {
      "cell_type": "markdown",
      "metadata": {
        "id": "M-hma2DhMyK-"
      },
      "source": [
        "<h1>Análisando as queimadas no Brasil</h1>\n",
        "\n",
        "*   Este notebook faz parte das atividades práticas da Oficina de Ciência de Dados para estudantes da Educação Básica, fornecido pelo grupo InformAção (UFRJ) e Escola SESC.\n",
        "*   Nesta atividade iremos aprender mais sobre como coletar, analisar e gerar gráficos a partir de dados referentes a um tema específico, neste caso dados sobre queimadas\n",
        "*   Todos os dados análisados foram extraídos do portal: [Programa Queimadas](https://queimadas.dgi.inpe.br/queimadas/dados-abertos/#)\n"
      ]
    },
    {
      "cell_type": "markdown",
      "metadata": {
        "id": "TMgS5MM_NlXP"
      },
      "source": [
        "<h2>1.   Preparando o ambiente de análise</h2>\n",
        "A área de Ciência de Dados possui um gama diversa de ferramentas e linguagens de programação para executar as tarefa necessárias para análise de dados. As linguagens mais conhecidas e utiliziadas são: Python, R, Matlab, Scala, C, C++, SAS, Java entre outras.\n",
        "Durante esta demonstração iremos utilizar a linguagem Python, umas das mais utilizadas não somente na área de Ciência de Dados, como também em outras áreas. \n",
        "\n",
        "<h3>1.1.   Baixando e instalando as bibliotecas</h3>\n",
        "Como primeiro passo necessitamos baixar bibliotecas importantes para a realização da análise dos dados de queimadas, estas bibliotecas são:\n",
        "\n",
        "*   **Pandas** é uma biblioteca de software criada para a linguagem Python para manipulação e análise de dados. Em particular, oferece estruturas e operações para manipular tabelas numéricas e séries temporais. É software livre sob a licensa licença BSD.\n",
        "*   **NumPy** é um pacote para a linguagem Python que suporta arrays e matrizes multidimensionais, possuindo uma larga coleção de funções matemáticas para trabalhar com estas estruturas.\n",
        "*   **Matplotlib** é uma biblioteca de software para criação de gráficos e visualizações de dados em geral, feita para a da linguagem de programação Python e sua extensão de matemática NumPy. Originalmente criada pelo biólogo e neurocientista americano John D.\n",
        "*   **GeoPandas** é um projeto open source idealizado para possibilitar e facilitar o trabalho com dados espaciais e georreferenciados utilizando a linguagem Python."
      ]
    },
    {
      "cell_type": "code",
      "metadata": {
        "id": "JWVuQHRtpmo_"
      },
      "source": [
        ""
      ],
      "execution_count": null,
      "outputs": []
    },
    {
      "cell_type": "markdown",
      "metadata": {
        "id": "Z02MlkRRuLIK"
      },
      "source": [
        "<h3>1.2.   Importando as bibliotecas utilizadas</h3>\n",
        "\n",
        "Para utilizar as bibliotecas baixadas e nativas no python necessitamos a primeiro momento importar elas ao nosso ambiente.\n",
        "Além das bibliotecas que instalamos anteriormente iremos utilizar as bibliotecas:\n",
        "\n",
        "*   **OS** fornece uma maneira simples de usar funcionalidades que são dependentes de sistema operacional.\n",
        "*   **Urllib** é um pacote que coleciona vários módulos para trabalhar com URLs\n",
        "\n"
      ]
    },
    {
      "cell_type": "code",
      "metadata": {
        "id": "lKbv7mROr4n-"
      },
      "source": [
        ""
      ],
      "execution_count": null,
      "outputs": []
    },
    {
      "cell_type": "markdown",
      "metadata": {
        "id": "Qaw53z0pOzIY"
      },
      "source": [
        "<h2>2.   Baixando e analisando o dataset sobre queimadas</h2>\n",
        "\n",
        "Nosso primeiro dataset a ser analisado diz a respeito sobre o histórico de queimadas no bioma Pantanal. Neste dataset iremos incontrar a quantidade de queimadas em cada mês do ano desde 1998, assim como o total por ano, máximo, média e mínimo de cada mês.\n",
        "\n",
        "Como primeiro passo devemos baixar o dataset no formato .csv para incluir em nosso ambiente. Baixamos o arquivo do portal Programa Queimadas e nomeamos como *historico_bioma_pantanal.csv*."
      ]
    },
    {
      "cell_type": "code",
      "metadata": {
        "id": "1Dhe4phJwT6J"
      },
      "source": [
        ""
      ],
      "execution_count": null,
      "outputs": []
    },
    {
      "cell_type": "markdown",
      "metadata": {
        "id": "8Vf6gQyMwQQQ"
      },
      "source": [
        "\n",
        "A partir disso podemos gerar um *dataframe* para que ele possa ser utilizado pela biblioteca **Pandas**."
      ]
    },
    {
      "cell_type": "code",
      "metadata": {
        "id": "T-wPq6ULsB0f"
      },
      "source": [
        ""
      ],
      "execution_count": null,
      "outputs": []
    },
    {
      "cell_type": "markdown",
      "metadata": {
        "id": "9TABhW0Lx-nV"
      },
      "source": [
        "Podemos destacar algumas questões interessantes sobre este dataset. \n",
        "*  Nem todos os dados presentes no dataset estão completos, alguns sendo representados pelo caractere **\"-\"**. \n",
        "*  A coluna de ano é representada pelo nome de **Unnamed: 0**\n",
        "*  As três últimas linhas não representam anos, mas sim **máximo**, **média** e **mínimo** de cada mês.\n",
        "*  A última coluna representa não representa um mês, mas sim o **total** de queimadas a cada ano.\n",
        "\n",
        "É essencial para análise de dados entender como os dados estão representados em um dataset, para assim podermos extrair o máximo de informações possíveis de um dataset.\n",
        "\n",
        "Também devemos estar atentos a possíveis valores que possam prejudicar nosso dataset. Neste dataset temos o caracter **\"-\"** no qual podemos identificar como um dado que não foi coletado, contudo o nosso ambiente não reconhece esta informação. Para contornar este problema devemos substituir este caracter para um valor reconhecido pelo ambiente, neste caso o valor 0."
      ]
    },
    {
      "cell_type": "code",
      "metadata": {
        "id": "xnEjj0wa1P7N"
      },
      "source": [
        ""
      ],
      "execution_count": null,
      "outputs": []
    },
    {
      "cell_type": "markdown",
      "metadata": {
        "id": "tTX5jMrATTpy"
      },
      "source": [
        "<h2>3.   Criação do gráfico de série histórica do pantanal</h2>\n",
        "\n",
        "\n",
        "Como melhor analisar esses dados sem ser pelo meio de uma tabela? Depois de ter uma visão do dataset coletado, podemos começar a investigar e gerar alguns gráficos interessantes e extrair informações que não era possível ao analisar o dataset como um todo."
      ]
    },
    {
      "cell_type": "markdown",
      "metadata": {
        "id": "8U33G0SW2cj4"
      },
      "source": [
        "<h3>3.1.   Criação do gráfico de barras</h3>\n",
        "\n",
        "Um gráfico interessante é a quantidade de queimadas por ano, assim devemos criar um gráfico de barras para melhor visualizar esses dados.\n",
        "\n",
        "Sendo assim, devemos ter:\n",
        " *  Eixo x = **Anos**\n",
        " *  Eixo y = **Quantidade de queimadas**\n",
        "\n",
        "Para termos nossos eixos para gerar o gráfico necessitamos criar as variáveis ```anos``` e ```total_queimadas```.\n",
        "\n",
        "Como visto no dataset a coluna de anos está com o nome ```Unnamed: 0``` e os valores do total de queimadas estão contidos entre as linhas 1 e 25. \n",
        "\n",
        "Para criação da variável devemos obdecer a regra: ```df[coluna][linha]```. Neste caso como estamos querendo valores entre as linhas 1 e 25 devemos designar este intervalo, assim resultando em ```df['Unnamed: 0'][0:24]``` (O dataframe começa a contar do 0)."
      ]
    },
    {
      "cell_type": "code",
      "metadata": {
        "id": "bC_p8kUV92Dc"
      },
      "source": [
        ""
      ],
      "execution_count": null,
      "outputs": []
    },
    {
      "cell_type": "markdown",
      "metadata": {
        "id": "Zkdqocfx5bKL"
      },
      "source": [
        "O gráfico de barras é criado a partir da função ```plt.bar()``` onde identificamos as variáveis e condições opcionais para sua criação, sempre seguindo esta condição: ```plt.bar(x, y, condiçõesOpcionais)```\n",
        "\n",
        "Para melhor visualização dos anos podemos toracionar a etiqueta de anos com a função ```plt.xticks(x, rotation=90)```\n",
        "\n",
        "Por fim para gerar o gráfico devemos utilizar a função ```plt.show()```"
      ]
    },
    {
      "cell_type": "code",
      "metadata": {
        "id": "GgWA5LG54qcf"
      },
      "source": [
        ""
      ],
      "execution_count": null,
      "outputs": []
    },
    {
      "cell_type": "markdown",
      "metadata": {
        "id": "u7k8HtIiXpxV"
      },
      "source": [
        "<h3>3.2.   Criação do gráfico de linhas</h3>\n",
        "\n",
        "A partir deste gráfico de barra podemos visualizar os dados com mais tranquilidade, e é perceptível a disparidade entre o ano de 2020 e os outros anos. A partir deste resultado podemos analisar mais alguns dados referentes ao ano de 2020.\n",
        "\n",
        "Como foi visto na tabela temos dados referente a máximo, mínimo e média de cada ano, seria interessante construir um gráfico onde podemos visualizar melhor esses dados e comparar com os diversos anos existentes na tabela. Mais precisamente analisando a evolução dos meses do ano. Como primeiro gráfico iremos analisar o máximo de focos por mês\n",
        "\n",
        "Sendo assim, devemos ter:\n",
        " *  Eixo x = **Meses**\n",
        " *  Eixo y = **Máximo de focos por mês**"
      ]
    },
    {
      "cell_type": "code",
      "metadata": {
        "id": "V91rc6omOSx6"
      },
      "source": [
        ""
      ],
      "execution_count": null,
      "outputs": []
    },
    {
      "cell_type": "markdown",
      "metadata": {
        "id": "hqnn6s_49X_0"
      },
      "source": [
        "Ao analisar os dados da variável **max** é perceptível que alguns estão no formato texto (formato texto é representado por aspas simples, ou duplas), contudo para gerar o gráfico somente devemos utilizar variáveis no formato **int**. Para contornar este problema utilizamos a função ```map(int, dataframe)``` que converte todos os valores na variável em inteiros."
      ]
    },
    {
      "cell_type": "code",
      "metadata": {
        "id": "TYip3M9p-Wbq"
      },
      "source": [
        ""
      ],
      "execution_count": null,
      "outputs": []
    },
    {
      "cell_type": "markdown",
      "metadata": {
        "id": "dQshxOXw-tm3"
      },
      "source": [
        "Com as variáveis definidas podemos gerar nosso gráfico de linhas.\n",
        "Neste caso utilizamos a função ```plt.plot()```, onde identificamos as variáveis e condições opcionais para sua criação, sempre seguindo esta condição: ```plt.plot(x, y, condiçõesOpcionais)```.\n",
        "Dentre as condições opcionais temos:\n",
        "*  color = identificação da cor da linha.\n",
        "*  marker = inclusão de marcadores para melhor visualização.\n",
        "*  label = identificação da linha criada para gerar uma legenda a partir da função ```plt.label()```.\n",
        "\n"
      ]
    },
    {
      "cell_type": "code",
      "metadata": {
        "id": "duMr_ozv8-E8"
      },
      "source": [
        ""
      ],
      "execution_count": null,
      "outputs": []
    },
    {
      "cell_type": "markdown",
      "metadata": {
        "id": "ElZqgXiBbDuZ"
      },
      "source": [
        "A partir da geração deste gráfico podemos gerar mais outros dois gráficos a respeito dos valores mínimos e médios contido no dataset analisado. Além disso podemos unificar este três diferentes gráficos somente incluindo o ```plt.show()``` ao final da identificação de cada um dos gráficos gerados."
      ]
    },
    {
      "cell_type": "code",
      "metadata": {
        "id": "JsvjaReNZCLl"
      },
      "source": [
        ""
      ],
      "execution_count": null,
      "outputs": []
    },
    {
      "cell_type": "markdown",
      "metadata": {
        "id": "C9J_Ld-jbqlS"
      },
      "source": [
        "<h3>3.3.   Unificação de diferentes gráficos</h3>\n",
        "\n",
        "A partir da geração do gráfico de linhas podemos perceber que o segundo semestre de todos os anos coletados são mais propícios a queimadas.\n",
        "\n",
        "Podemos ainda utilizar este gráfico para gerar uma comparação entre o número de queimadas durante os meses do ano. Vamos comparar os três últimos anos do dataset (2019 - 2021). Iremos gerar dois gráficos:\n",
        "*  Comparação 2019-2020\n",
        "*  Comparação 2020-2021\n",
        "\n",
        "Primeiro iremos ver como unificamos vários gráficos em um só. Para isso começaremos criando a variável representando o ano de 2019."
      ]
    },
    {
      "cell_type": "code",
      "metadata": {
        "id": "QMuKS-EjXCUN"
      },
      "source": [
        ""
      ],
      "execution_count": null,
      "outputs": []
    },
    {
      "cell_type": "markdown",
      "metadata": {
        "id": "cDb7E1u6Xgpp"
      },
      "source": [
        "Criação dos gráficos é feito por camadas sendo as primeiras adicionadas a que ficaram no fundo da imagem."
      ]
    },
    {
      "cell_type": "code",
      "metadata": {
        "id": "ShbFeNdJXQDc"
      },
      "source": [
        ""
      ],
      "execution_count": null,
      "outputs": []
    },
    {
      "cell_type": "markdown",
      "metadata": {
        "id": "IdNfN-J8Bija"
      },
      "source": [
        "<h4>3.3.1.   Comparação 2019-2020</h4>\n",
        "\n",
        "Geraremos os gráficos referente aos anos de 2019 e 2020 no formato de barras. Conforme mostrado anteriormente iremos utilizar a função ```df.loc(linha, colunaInicial:colunaFinal)``` para especificar a região do dataset que queremos. \n",
        "\n",
        "O ano de 2019 está contido na linha 21 do dataset e o ano de 2020 na linha 22.\n",
        "\n",
        "Iremos utilizar novamente utilizar a função ```map(int, variável)``` pois os formatos contidos nas variáveis não são os mesmos.\n",
        "\n",
        "Além disso, devemos incluir esta função *map* dentro de uma função ```list()``` pois o resultado gerado da função *map* retorna uma variável do tipo *map* e não do tipo *list* que é utilizada para geração dos gráficos."
      ]
    },
    {
      "cell_type": "code",
      "metadata": {
        "id": "Wv0_nasibZKd"
      },
      "source": [
        ""
      ],
      "execution_count": null,
      "outputs": []
    },
    {
      "cell_type": "markdown",
      "metadata": {
        "id": "y8vqCmj-F1YB"
      },
      "source": [
        "<h4>3.3.1.   Comparação 2020-2021</h4>\n",
        "\n",
        "Depois da criação das variáveis devemos gerar os gráficos como camadas, onde as primeiras deverão ser os gráficos de barra dos anos de 2020 e 2019. A ordem de inserção de cada gráfico obdece a ordem sequencial das linhas de execução."
      ]
    },
    {
      "cell_type": "code",
      "metadata": {
        "id": "OA1z_dGXF0nY"
      },
      "source": [
        ""
      ],
      "execution_count": null,
      "outputs": []
    },
    {
      "cell_type": "markdown",
      "metadata": {
        "id": "R99fVGLcHmUi"
      },
      "source": [
        "É perceptível a disparidade do ano 2020 em relação ao ano de 2019. Agora compararemos os anos 2020 e 2021. Seguindo a mesma ordem de inserção usada anteriormente."
      ]
    },
    {
      "cell_type": "code",
      "metadata": {
        "id": "-v0i9qcJFwvf"
      },
      "source": [
        ""
      ],
      "execution_count": null,
      "outputs": []
    },
    {
      "cell_type": "markdown",
      "metadata": {
        "id": "_V2uNGOOcRC5"
      },
      "source": [
        "<h2>2.   Baixando e analisando o dataset de Setembro de 2021</h2>\n",
        "\n",
        "A partir da geração do gráfico é perceptível que o ano de 2020 foi um dos com mais queimadas, principalmente nos meses de Março, Abril, Junho, Agosto, Setembro, Outubro.\n",
        "\n",
        "Como é perceptível o mês de setembro é um dos que mais há casos de queimadas, podemos analisar um outro dataset referente somente ao mês de setembro.\n",
        "\n",
        "Obs: O arquivo utilizado possui por volta de 250 MB, o que pode demorar um pouco para ser baixado."
      ]
    },
    {
      "cell_type": "code",
      "metadata": {
        "id": "D3kHzSKwik7w"
      },
      "source": [
        ""
      ],
      "execution_count": null,
      "outputs": []
    },
    {
      "cell_type": "markdown",
      "metadata": {
        "id": "ZNfyfqq2i9Ut"
      },
      "source": [
        "Diferentemente do arquivo anterior, neste podemos ver informações a respeito de focos de calor captados por diferentes satélites em diferentes horários. Neste caso podemos utilizar as colunas de Latitude e Longitude como nossos eixos em um gráfico.\n",
        "\n",
        "Além disso, este dataset utilizado é muito maior que o anterior, mais de 5.600.000 registros. Claro que podemos tentar utiliziar o dataset todo para nossos estudos, contudo toda operação realizada no dataset custará tempo por conta da quantidade de registros e possivelmente podemos ter dados duplicados tendo em vista que diferentes datasets podem coletar o dados sobre um mesmo ponto de calor.\n",
        "\n",
        "\n",
        "\n"
      ]
    },
    {
      "cell_type": "code",
      "metadata": {
        "id": "eFyOd69VHKkq"
      },
      "source": [
        ""
      ],
      "execution_count": null,
      "outputs": []
    },
    {
      "cell_type": "markdown",
      "metadata": {
        "id": "NXUthc5sKd4D"
      },
      "source": [
        "Para contornar isto devemos escolher o satélite que melhor atende nosso objetivo, analisar focos de queimadas no território brasileiro.\n",
        "\n",
        "Sendo assim criaremos uma cópia do dataset coletado mas somente dos registros do satélite escolhido. Para isso devemos especificar que só desejamos os registros em que a **coluna satelite** contenha o nome escolhido:\n",
        "```\n",
        "df_focos[df_focos.coluna == 'texto']\n",
        "```\n"
      ]
    },
    {
      "cell_type": "code",
      "metadata": {
        "id": "1OS9IbPSKgNc"
      },
      "source": [
        ""
      ],
      "execution_count": null,
      "outputs": []
    },
    {
      "cell_type": "markdown",
      "metadata": {
        "id": "tkXUEa63LSCj"
      },
      "source": [
        "Com o novo dataset criado podemos gerar um gráfico com os dados de latitude e longitude para identificarmos as regiões com maiores focos de calor coletados pelo satélite escolhido. Neste caso nosso eixos serão:\n",
        "\n",
        "*  Eixo x = **Latitude**\n",
        "*  Eixo y = **Longitude**\n",
        "\n",
        "Utilizaremos neste caso a função ```plt.scatter(x, y, condiçõesOpcionais)``` na qual gera um gráfico com todos os pontos a partir da latitude e longitude coletadas. Suas condições opcionais são:\n",
        "*  label = tipo do ponto gerado ()\n",
        "*  color = cor do ponto.\n",
        "*  s = tamanho do ponto gerado."
      ]
    },
    {
      "cell_type": "code",
      "metadata": {
        "id": "qTx1hmQ5qpUD"
      },
      "source": [
        ""
      ],
      "execution_count": null,
      "outputs": []
    },
    {
      "cell_type": "markdown",
      "metadata": {
        "id": "6VmsHa8dXI76"
      },
      "source": [
        "Para melhor visualização das coordenadas iremos utilizar a biblioteca GeoPandas na qual fornece diversos mapas para geração de gráficos."
      ]
    },
    {
      "cell_type": "code",
      "metadata": {
        "id": "yeUJlkWUWzyV"
      },
      "source": [
        ""
      ],
      "execution_count": null,
      "outputs": []
    },
    {
      "cell_type": "markdown",
      "metadata": {
        "id": "RlOS8MVwyiCf"
      },
      "source": [
        "<h2>3.   Baixando e analisando o dataset das últimas 48 horas</h2>\n",
        "\n",
        "A partir da utilização do satélites podemos extrair focos de calor de alguma região mais atingida.\n",
        "\n",
        "Uma dessas regiões é do estado de Mato Grosso. Neste caso iremos analisar os dados das últimas 48 horas do estado de Mato Grosso.\n"
      ]
    },
    {
      "cell_type": "code",
      "metadata": {
        "id": "0hcXn4rVA4JD"
      },
      "source": [
        ""
      ],
      "execution_count": null,
      "outputs": []
    },
    {
      "cell_type": "markdown",
      "metadata": {
        "id": "FbJm1bET-0J-"
      },
      "source": [
        "Depois de analisar as coordenadas é possível perceber uma maior concentração de pontos em uma determinada região, podemos analisar melhor esses dados quando agrupamos pelos muncípios."
      ]
    },
    {
      "cell_type": "code",
      "metadata": {
        "id": "teaTIOr8PF1i"
      },
      "source": [
        ""
      ],
      "execution_count": null,
      "outputs": []
    },
    {
      "cell_type": "markdown",
      "metadata": {
        "id": "T0gxVZhNARDt"
      },
      "source": [
        "Uma outra forma de análise é geração de gráfico de pizza com as incidências de focos de calor no estado do Mato Grosso."
      ]
    },
    {
      "cell_type": "code",
      "metadata": {
        "id": "DrT1iAS_zpEu"
      },
      "source": [
        ""
      ],
      "execution_count": null,
      "outputs": []
    },
    {
      "cell_type": "markdown",
      "metadata": {
        "id": "ziJHfy5kvdBN"
      },
      "source": [
        "O atributo \"RiscoFogo\" dos focos é o valor do Risco de Fogo previsto para o mesmo dia da ocorrência do foco. A partir disso, podemos analisar a relação entre o risco fogo e a quantidade de focos de calor nas últimas 48 horas.\n",
        "\n",
        "Vale destacar que neste caso iremos utilizar o somátorio do risco fogo de todas os registros por município, assim tendo uma visão geral do muncípio como um todo e não somente um foco de calor."
      ]
    },
    {
      "cell_type": "code",
      "metadata": {
        "id": "IPBXN5JkztlT"
      },
      "source": [
        ""
      ],
      "execution_count": null,
      "outputs": []
    }
  ]
}